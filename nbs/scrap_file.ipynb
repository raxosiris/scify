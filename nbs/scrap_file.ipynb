{
 "cells": [
  {
   "cell_type": "code",
   "execution_count": 71,
   "metadata": {},
   "outputs": [
    {
     "data": {
      "text/plain": [
       "<spacy.pipeline.pipes.EntityRecognizer at 0x218fdfc40>"
      ]
     },
     "execution_count": 71,
     "metadata": {},
     "output_type": "execute_result"
    }
   ],
   "source": [
    "from spacy.pipeline import EntityRecognizer\n",
    "#https://stackoverflow.com/questions/54855780/how-to-create-ner-pipeline-with-multiple-models-in-spacy\n",
    "ner_bc5 = EntityRecognizer(nlp1.vocab)\n",
    "\n",
    "# reload the NER component from the German model by serializing\n",
    "# without the vocab and deserializing using the new NER component\n",
    "ner_bc5.from_bytes(nlp1.get_pipe(\"ner\").to_bytes(exclude=[\"vocab\"]))\n",
    "\n",
    "#nlp.add_pipe(ner_bc5, name=\"ner_bc5\")\n",
    "\n",
    "#check that they have the same vocab\n",
    "assert nlp.vocab == ner_bc5.vocab"
   ]
  }
 ],
 "metadata": {
  "kernelspec": {
   "display_name": "Python 3",
   "language": "python",
   "name": "python3"
  },
  "language_info": {
   "codemirror_mode": {
    "name": "ipython",
    "version": 3
   },
   "file_extension": ".py",
   "mimetype": "text/x-python",
   "name": "python",
   "nbconvert_exporter": "python",
   "pygments_lexer": "ipython3",
   "version": "3.8.3"
  }
 },
 "nbformat": 4,
 "nbformat_minor": 4
}
