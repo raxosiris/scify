{
 "cells": [
  {
   "cell_type": "code",
   "execution_count": 1,
   "metadata": {},
   "outputs": [],
   "source": [
    "import kindred"
   ]
  },
  {
   "cell_type": "code",
   "execution_count": null,
   "metadata": {},
   "outputs": [],
   "source": [
    "trainCorpus = kindred.bionlpst.load('2016-BB3-event-train')\n",
    "devCorpus = kindred.bionlpst.load('2016-BB3-event-dev')\n",
    "predictionCorpus = devCorpus.clone()\n",
    "predictionCorpus.removeRelations()\n",
    "classifier = kindred.RelationClassifier()\n",
    "classifier.train(trainCorpus)\n",
    "classifier.predict(predictionCorpus)\n",
    "f1score = kindred.evaluate(devCorpus, predictionCorpus, metric='f1score')"
   ]
  }
 ],
 "metadata": {
  "kernelspec": {
   "display_name": "Python 3",
   "language": "python",
   "name": "python3"
  },
  "language_info": {
   "codemirror_mode": {
    "name": "ipython",
    "version": 3
   },
   "file_extension": ".py",
   "mimetype": "text/x-python",
   "name": "python",
   "nbconvert_exporter": "python",
   "pygments_lexer": "ipython3",
   "version": "3.8.3"
  }
 },
 "nbformat": 4,
 "nbformat_minor": 4
}
