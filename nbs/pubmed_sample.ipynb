{
 "cells": [
  {
   "cell_type": "markdown",
   "metadata": {},
   "source": [
    "#1) get abstracts\n",
    "#2) write pattern matcher\n",
    "#3) see what comes out\n",
    "#4) Write pattern -> triple \n",
    "#4.5) See test performance on causaly-small Dataset -- binary classifier\n",
    "#5) see what comes out\n",
    "#6) try biochemical corpus"
   ]
  },
  {
   "cell_type": "code",
   "execution_count": 22,
   "metadata": {},
   "outputs": [
    {
     "name": "stdout",
     "output_type": "stream",
     "text": [
      "The autoreload extension is already loaded. To reload it, use:\n",
      "  %reload_ext autoreload\n"
     ]
    }
   ],
   "source": [
    "%load_ext autoreload\n",
    "%autoreload 2\n",
    "%reload_ext autoreload"
   ]
  },
  {
   "cell_type": "code",
   "execution_count": 46,
   "metadata": {},
   "outputs": [],
   "source": [
    "import xmltodict  #xmltodict.parse('data/sample_pubmed20n0004.xml')\n",
    "from gzip import GzipFile\n",
    "import pubmed_parser\n",
    "\n",
    "import scispacy\n",
    "import spacy\n",
    "from scispacy.abbreviation import AbbreviationDetector\n",
    "#from spacy.pipeline import merge_entities\n",
    "from scispacy.linking import EntityLinker\n",
    "#from .. import utils\n",
    "from scify.nlp import show_tabs, visualise_subtrees, visualise_doc, show_tabs, check_for_non_trees, get_lemma,add_matches, match_texts"
   ]
  },
  {
   "cell_type": "code",
   "execution_count": 47,
   "metadata": {},
   "outputs": [],
   "source": [
    "import en_ner_bc5cdr_md, en_core_sci_md, en_ner_craft_md"
   ]
  },
  {
   "cell_type": "code",
   "execution_count": 48,
   "metadata": {},
   "outputs": [
    {
     "name": "stderr",
     "output_type": "stream",
     "text": [
      "/Users/markus/opt/anaconda3/envs/markus_nlp/lib/python3.8/site-packages/sklearn/base.py:329: UserWarning: Trying to unpickle estimator TfidfTransformer from version 0.20.3 when using version 0.23.1. This might lead to breaking code or invalid results. Use at your own risk.\n",
      "  warnings.warn(\n",
      "/Users/markus/opt/anaconda3/envs/markus_nlp/lib/python3.8/site-packages/sklearn/base.py:329: UserWarning: Trying to unpickle estimator TfidfVectorizer from version 0.20.3 when using version 0.23.1. This might lead to breaking code or invalid results. Use at your own risk.\n",
      "  warnings.warn(\n"
     ]
    }
   ],
   "source": [
    "# This line takes a while, because we have to download ~1GB of data\n",
    "# and load a large JSON file (the knowledge base). Be patient!\n",
    "# Thankfully it should be faster after the first time you use it, because\n",
    "# the downloads are cached. --- But it still takes forever!\n",
    "\n",
    "\n",
    "# NOTE: The resolve_abbreviations parameter is optional, and requires that\n",
    "# the AbbreviationDetector pipe has already been added to the pipeline. Adding\n",
    "# the AbbreviationDetector pipe and setting resolve_abbreviations to True means\n",
    "# that linking will only be performed on the long form of abbreviations.\n",
    "\n",
    "linker = EntityLinker(resolve_abbreviations=True, name=\"umls\")"
   ]
  },
  {
   "cell_type": "code",
   "execution_count": 52,
   "metadata": {},
   "outputs": [],
   "source": [
    "from spacy.pipeline import merge_entities\n",
    "\n",
    "nlp = spacy.load(\"en_core_sci_md\")\n",
    "text = \"\"\"Myeloid derived suppressor cells (MDSC) are immature myeloid cells with immunosuppressive activity.\"\"\"\n",
    "abbreviation_pipe = AbbreviationDetector(nlp)\n",
    "\n",
    "nlp.add_pipe(abbreviation_pipe)\n",
    "nlp.add_pipe(linker)\n",
    "nlp.add_pipe(merge_entities)\n",
    "\n",
    "#if you get a warning here, it means you should upgrade the scispacy models (0.24 -> 0.25)"
   ]
  },
  {
   "cell_type": "code",
   "execution_count": 62,
   "metadata": {},
   "outputs": [],
   "source": [
    "pubmed_abstracts = pubmed_parser.parse_medline_xml(\"../data/pubmed/pubmed20n1015.xml\")\n",
    "abstr = [article[\"abstract\"] for article in pubmed_abstracts]"
   ]
  },
  {
   "cell_type": "code",
   "execution_count": 63,
   "metadata": {},
   "outputs": [
    {
     "data": {
      "text/plain": [
       "756"
      ]
     },
     "execution_count": 63,
     "metadata": {},
     "output_type": "execute_result"
    }
   ],
   "source": [
    "len(abstr)"
   ]
  },
  {
   "cell_type": "code",
   "execution_count": 64,
   "metadata": {},
   "outputs": [],
   "source": [
    "import json\n",
    "patterns = [\n",
    "    \"prevented|nsubj|START_ENTITY prevented|dobj|END_ENTITY\",\n",
    "    \"causes|nsubj|START_ENTITY causes|dobj|END_ENTITY\"\n",
    "]\n",
    "\n",
    "matcher = add_matches(nlp.vocab, patterns)\n",
    "matched_abstracts = match_texts(matcher, abstr[:200], nlp)"
   ]
  },
  {
   "cell_type": "code",
   "execution_count": 65,
   "metadata": {},
   "outputs": [],
   "source": [
    "nlp_NER = en_ner_bc5cdr_md.load()\n",
    "matcher = add_matches(nlp_NER.vocab, patterns)\n",
    "matched_abstracts2 = match_texts(matcher, abstr[:200], nlp_NER)"
   ]
  },
  {
   "cell_type": "code",
   "execution_count": 66,
   "metadata": {},
   "outputs": [
    {
     "data": {
      "text/plain": [
       "({'causes|nsubj|START_ENTITY causes|dobj|END_ENTITY': [{'doc_idx': 14,\n",
       "    'span': 'Spinal cord injury (SCI) can cause loss of',\n",
       "    'sents': [Spinal cord injury (SCI) can cause loss of mobility in the limbs, and no drugs, surgical procedures, or rehabilitation strategies provide a complete cure.],\n",
       "    'matches': [[5, 0, 6]],\n",
       "    'sent_ents': [[Spinal cord injury,\n",
       "      SCI,\n",
       "      loss of,\n",
       "      limbs,\n",
       "      drugs,\n",
       "      surgical procedures,\n",
       "      rehabilitation,\n",
       "      cure]]},\n",
       "   {'doc_idx': 165,\n",
       "    'span': 'misdiagnosis can cause undue stress',\n",
       "    'sents': [Such misdiagnosis can cause undue stress on the patient and their families.],\n",
       "    'matches': [[264, 262, 265]],\n",
       "    'sent_ents': [[misdiagnosis, undue stress, patient, families]]}],\n",
       "  'prevented|nsubj|START_ENTITY prevented|dobj|END_ENTITY': [{'doc_idx': 82,\n",
       "    'span': 'Pretreatment of cells with antioxidants ascorbic acid and beta-mercaptoethanol prevented these NEO212-induced effects',\n",
       "    'sents': [Pretreatment of cells with antioxidants ascorbic acid and beta-mercaptoethanol prevented these NEO212-induced effects.\n",
       "     \n",
       "     ],\n",
       "    'matches': [[190, 183, 193], [231, 226, 232]],\n",
       "    'sent_ents': [[Pretreatment,\n",
       "      cells,\n",
       "      antioxidants ascorbic acid,\n",
       "      beta-mercaptoethanol,\n",
       "      NEO212-induced,\n",
       "      effects]]}]},\n",
       " 'WITH NER -->',\n",
       " {'causes|nsubj|START_ENTITY causes|dobj|END_ENTITY': [{'doc_idx': 14,\n",
       "    'span': 'injury (SCI) can cause loss',\n",
       "    'sents': [Spinal cord injury (SCI) can cause loss of mobility in the limbs, and no drugs, surgical procedures, or rehabilitation strategies provide a complete cure.],\n",
       "    'matches': [[7, 2, 8]],\n",
       "    'sent_ents': [[cord injury, SCI, loss of mobility]]},\n",
       "   {'doc_idx': 165,\n",
       "    'span': 'misdiagnosis can cause undue stress',\n",
       "    'sents': [Such misdiagnosis can cause undue stress on the patient and their families.],\n",
       "    'matches': [[286, 284, 288]],\n",
       "    'sent_ents': [[misdiagnosis, undue stress]]}],\n",
       "  'prevented|nsubj|START_ENTITY prevented|dobj|END_ENTITY': [{'doc_idx': 82,\n",
       "    'span': 'Pretreatment of cells with antioxidants ascorbic acid and beta-mercaptoethanol prevented these NEO212-induced effects',\n",
       "    'sents': [Pretreatment of cells with antioxidants ascorbic acid and beta-mercaptoethanol prevented these NEO212-induced effects.\n",
       "     \n",
       "     ],\n",
       "    'matches': [[217, 208, 220], [266, 261, 268]],\n",
       "    'sent_ents': [[ascorbic acid, beta-mercaptoethanol]]}]})"
      ]
     },
     "execution_count": 66,
     "metadata": {},
     "output_type": "execute_result"
    }
   ],
   "source": [
    "#uncomment token_pattern[\"ENT_TYPE\"] = {\"NOT_IN\": [\"\"]} in construct_pattern() to make nlp_NER not match bc not entities\n",
    "matched_abstracts, \"WITH NER -->\", matched_abstracts2"
   ]
  },
  {
   "cell_type": "markdown",
   "metadata": {},
   "source": [
    "THE NER model doesn't match the patterns!! ??!"
   ]
  },
  {
   "cell_type": "code",
   "execution_count": null,
   "metadata": {},
   "outputs": [],
   "source": []
  },
  {
   "cell_type": "code",
   "execution_count": 71,
   "metadata": {},
   "outputs": [],
   "source": [
    "# Each entity is linked to UMLS with a score\n",
    "# (currently just char-3gram matching).\n",
    "\n",
    "#for umls_ent in entity._.kb_ents:\n",
    " #   print(linker.kb.cui_to_entity[umls_ent[0]])\n"
   ]
  },
  {
   "cell_type": "markdown",
   "metadata": {},
   "source": [
    "## NER\n",
    "The NER model correctly identifies Ca2 and histamine as chemicals, but there's way less Entities that the pattern matcher can identify with."
   ]
  },
  {
   "cell_type": "code",
   "execution_count": 69,
   "metadata": {},
   "outputs": [
    {
     "data": {
      "text/plain": [
       "{'causes|nsubj|START_ENTITY causes|dobj|END_ENTITY': [{'doc_idx': 0,\n",
       "   'span': 'exposure of the pretreated cells to Ca2 causes increased release',\n",
       "   'sents': [The subsequent exposure of the pretreated cells to Ca2 causes increased release of histamine and degradation of methylated phospholipids.],\n",
       "   'matches': [[9, 2, 11]],\n",
       "   'sent_ents': [[Ca2, histamine]]},\n",
       "  {'doc_idx': 1,\n",
       "   'span': 'Ca2 causes histamine',\n",
       "   'sents': [Ca2 causes histamine],\n",
       "   'matches': [[1, 0, 2]],\n",
       "   'sent_ents': [[Ca2, histamine]]}]}"
      ]
     },
     "execution_count": 69,
     "metadata": {},
     "output_type": "execute_result"
    }
   ],
   "source": [
    "ex1 = \"The subsequent exposure of the pretreated cells to Ca2 causes increased release of histamine and degradation of methylated phospholipids.\"\n",
    "ex2 = \"Ca2 causes histamine\"\n",
    "\n",
    "#only ex2 is pattern-matched!\n",
    "match_texts(matcher, [ex1, ex2], nlp_NER)"
   ]
  },
  {
   "cell_type": "code",
   "execution_count": 70,
   "metadata": {},
   "outputs": [
    {
     "data": {
      "text/plain": [
       "([(Ca2, 'CHEMICAL'), (histamine, 'CHEMICAL')],\n",
       " ' --Versus (UNNAMED) ENTITIY RECOGNITION -->',\n",
       " [(exposure of, 'ENTITY'),\n",
       "  (pretreated cells, 'ENTITY'),\n",
       "  (Ca2, 'ENTITY'),\n",
       "  (increased, 'ENTITY'),\n",
       "  (release, 'ENTITY'),\n",
       "  (histamine, 'ENTITY'),\n",
       "  (degradation, 'ENTITY'),\n",
       "  (methylated phospholipids, 'ENTITY')])"
      ]
     },
     "execution_count": 70,
     "metadata": {},
     "output_type": "execute_result"
    }
   ],
   "source": [
    "[(ent, ent.label_) for ent in nlp_NER(ex1).ents], ' --Versus (UNNAMED) ENTITIY RECOGNITION -->',[(ent, ent.label_) for ent in nlp(ex1).ents]"
   ]
  },
  {
   "cell_type": "markdown",
   "metadata": {},
   "source": [
    "When you add matcher rules, you can also define an on_match callback function as the second argument of Matcher.add. This is often useful if you want to trigger specific actions – for example, do one thing if a COLOR match is found, and something else for a PRODUCT match.\n",
    "\n",
    "If you want to solve this even more elegantly, you might also want to look into combining your matcher with a custom pipeline component or custom attributes. For example, you could write a simple component that's run automatically when you call nlp() on your text, finds the matches, and sets a Doc._.relations or Token._.is_color attribute. The docs have a few examples of this that should help you get started."
   ]
  },
  {
   "cell_type": "code",
   "execution_count": 25,
   "metadata": {},
   "outputs": [],
   "source": [
    "#dependency distributions\n",
    "\n",
    "from collections import Counter\n",
    "dep_counts = Counter()\n",
    "for abst in abstr[:2000]:\n",
    "    for token in nlp(abst):\n",
    "        dep_counts[token.dep_] += 1\n",
    "dep_counts.most_common(30)"
   ]
  }
 ],
 "metadata": {
  "kernelspec": {
   "display_name": "Python 3",
   "language": "python",
   "name": "python3"
  },
  "language_info": {
   "codemirror_mode": {
    "name": "ipython",
    "version": 3
   },
   "file_extension": ".py",
   "mimetype": "text/x-python",
   "name": "python",
   "nbconvert_exporter": "python",
   "pygments_lexer": "ipython3",
   "version": "3.8.3"
  }
 },
 "nbformat": 4,
 "nbformat_minor": 4
}
