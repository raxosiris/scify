{
 "cells": [
  {
   "cell_type": "code",
   "execution_count": 10,
   "metadata": {},
   "outputs": [
    {
     "name": "stdout",
     "output_type": "stream",
     "text": [
      "The autoreload extension is already loaded. To reload it, use:\n",
      "  %reload_ext autoreload\n"
     ]
    },
    {
     "name": "stderr",
     "output_type": "stream",
     "text": [
      "[autoreload of scify.nlp failed: Traceback (most recent call last):\n",
      "  File \"/Users/markus/opt/anaconda3/envs/markus_nlp/lib/python3.8/site-packages/IPython/extensions/autoreload.py\", line 245, in check\n",
      "    superreload(m, reload, self.old_objects)\n",
      "  File \"/Users/markus/opt/anaconda3/envs/markus_nlp/lib/python3.8/site-packages/IPython/extensions/autoreload.py\", line 394, in superreload\n",
      "    module = reload(module)\n",
      "  File \"/Users/markus/opt/anaconda3/envs/markus_nlp/lib/python3.8/imp.py\", line 314, in reload\n",
      "    return importlib.reload(module)\n",
      "  File \"/Users/markus/opt/anaconda3/envs/markus_nlp/lib/python3.8/importlib/__init__.py\", line 169, in reload\n",
      "    _bootstrap._exec(spec, module)\n",
      "  File \"<frozen importlib._bootstrap>\", line 604, in _exec\n",
      "  File \"<frozen importlib._bootstrap_external>\", line 779, in exec_module\n",
      "  File \"<frozen importlib._bootstrap_external>\", line 916, in get_code\n",
      "  File \"<frozen importlib._bootstrap_external>\", line 846, in source_to_code\n",
      "  File \"<frozen importlib._bootstrap>\", line 219, in _call_with_frames_removed\n",
      "  File \"/Users/markus/Projects/iknow/nbs/scify/nlp.py\", line 63\n",
      "    def last_token_of_entity(doc:Doc, token:Token)->Token:\n",
      "                                                         ^\n",
      "IndentationError: unexpected unindent\n",
      "]\n"
     ]
    }
   ],
   "source": [
    "%load_ext autoreload\n",
    "%autoreload 2\n",
    "import spacy\n",
    "import scispacy\n",
    "from scispacy.linking import EntityLinker\n",
    "import en_core_sci_lg\n",
    "from scify.nlp import *\n"
   ]
  },
  {
   "cell_type": "code",
   "execution_count": 2,
   "metadata": {},
   "outputs": [],
   "source": [
    "text = \"Spinal and bulbar muscular atrophy (SBMA) is an inherited motor neuron disease caused by the expansion of a polyglutamine tract within the androgen receptor (AR). SBMA can be caused by this easily.\""
   ]
  },
  {
   "cell_type": "code",
   "execution_count": 3,
   "metadata": {},
   "outputs": [],
   "source": [
    "from scispacy.abbreviation import AbbreviationDetector\n",
    "from spacy.pipeline import merge_entities\n",
    "from scispacy.linking import EntityLinker\n",
    "\n",
    "nlp = load_sci_pipe()"
   ]
  },
  {
   "cell_type": "code",
   "execution_count": 4,
   "metadata": {},
   "outputs": [],
   "source": [
    "#linker_umls = EntityLinker(resolve_abbreviations=True, name=\"umls\")\n",
    "#nlp.add_pipe(linker_umls)"
   ]
  },
  {
   "cell_type": "code",
   "execution_count": 11,
   "metadata": {},
   "outputs": [],
   "source": [
    "from textacy.corpus import Corpus\n",
    "from scify.consts import labels\n",
    "from spacy.tokens import Doc, Token, Span\n",
    "\n",
    "for label in labels:\n",
    "    nlp.vocab.strings.add(label)\n",
    "\n",
    "reannotate()\n",
    "gnbr_500 = Corpus(nlp).load(nlp, \"../data/experiments/GNBR_chem-gene_annotated_500\")\n",
    "\n",
    "#https://github.com/explosion/spaCy/issues/860\n",
    "#doc = nlp(text)"
   ]
  },
  {
   "cell_type": "code",
   "execution_count": 23,
   "metadata": {},
   "outputs": [],
   "source": [
    "from scify.utils.datasets import get_csv\n",
    "\n",
    "dep_paths = get_csv(\"../data/experiments/GNBR_chem_gene_good_patterns_20k.csv\")"
   ]
  },
  {
   "cell_type": "code",
   "execution_count": 34,
   "metadata": {},
   "outputs": [
    {
     "data": {
      "text/plain": [
       "{'dep_path': 'enhances|nsubj|start_entity enhances|nmod|up-regulation up-regulation|nmod|end_entity',\n",
       " 'occurence_count': '1'}"
      ]
     },
     "execution_count": 34,
     "metadata": {},
     "output_type": "execute_result"
    }
   ],
   "source": [
    "dep_paths[1]"
   ]
  },
  {
   "cell_type": "code",
   "execution_count": 39,
   "metadata": {},
   "outputs": [],
   "source": [
    "deps = sorted(dep_paths, key=lambda obj: int(obj[\"occurence_count\"]), reverse=True)"
   ]
  },
  {
   "cell_type": "code",
   "execution_count": 41,
   "metadata": {},
   "outputs": [
    {
     "data": {
      "text/plain": [
       "[{'dep_path': 'domain|compound|start_entity domain|nmod|end_entity',\n",
       "  'occurence_count': '157'},\n",
       " {'dep_path': 'inhibitor|appos|start_entity inhibitor|compound|end_entity',\n",
       "  'occurence_count': '155'},\n",
       " {'dep_path': 'fingers|compound|start_entity fingers|nmod|end_entity',\n",
       "  'occurence_count': '117'}]"
      ]
     },
     "execution_count": 41,
     "metadata": {},
     "output_type": "execute_result"
    }
   ],
   "source": [
    "deps[:3]"
   ]
  },
  {
   "cell_type": "markdown",
   "metadata": {},
   "source": [
    "## Get Most Potent Paths\n"
   ]
  },
  {
   "cell_type": "markdown",
   "metadata": {},
   "source": [
    "## Apply to GNBR itself and check Syntactic Parsing accuracy of SciSpacy"
   ]
  },
  {
   "cell_type": "code",
   "execution_count": null,
   "metadata": {},
   "outputs": [],
   "source": [
    "from IPython.display import Image\n",
    "Image('../assets/GNBR_datafile_info.png')"
   ]
  },
  {
   "cell_type": "markdown",
   "metadata": {},
   "source": [
    "## Precision on GNBR\n",
    "Should be high since the clusters are annotated by humans ... the syntax parsing might make troubles"
   ]
  },
  {
   "cell_type": "code",
   "execution_count": 43,
   "metadata": {},
   "outputs": [
    {
     "data": {
      "text/plain": [
       "(207, 210, 206)"
      ]
     },
     "execution_count": 43,
     "metadata": {},
     "output_type": "execute_result"
    }
   ],
   "source": [
    "#get 10 strongest dep paths\n",
    "wanted_abstr = [doc for doc in gnbr_500 if doc_has_entity_labels(doc,  [[\"CHEMICAL\", \"SIMPLE_CHEMICAL\"], [\"GENE\", \"GENE_OR_GENE_PRODUCT\"]])]\n",
    "target_sents =[sent for abstract in wanted_abstr for sent in abstract.sents if doc_has_entity_labels(sent,  [[\"CHEMICAL\", \"SIMPLE_CHEMICAL\"], [\"GENE\", \"GENE_OR_GENE_PRODUCT\"]])]\n",
    "len(wanted_abstr), len([sent for abstract in wanted_abstr for sent in abstract.sents ]), len(target_sents)"
   ]
  },
  {
   "cell_type": "code",
   "execution_count": null,
   "metadata": {},
   "outputs": [],
   "source": [
    "from scify.utils.datasets import GNBR\n",
    "data, distributions = GNBR.get_data_and_distributions(\"../DATA/biomedrel/\")"
   ]
  },
  {
   "cell_type": "code",
   "execution_count": 44,
   "metadata": {},
   "outputs": [
    {
     "data": {
      "text/plain": [
       "[(c-Myc, ['GENE_OR_GENE_PRODUCT', 'PROTEIN']),\n",
       " (10058-F4, ['CHEMICAL', 'SIMPLE_CHEMICAL']),\n",
       " (induces, []),\n",
       " (cell-cycle arrest, ['DISEASE']),\n",
       " (apoptosis, []),\n",
       " (myeloid, ['CELL']),\n",
       " (human, ['TAXON', 'ORGANISM']),\n",
       " (acute_myeloid_leukemia, ['DISEASE'])]"
      ]
     },
     "execution_count": 44,
     "metadata": {},
     "output_type": "execute_result"
    }
   ],
   "source": [
    "ents_w_candidates(target_sents[1])"
   ]
  },
  {
   "cell_type": "code",
   "execution_count": 22,
   "metadata": {
    "jupyter": {
     "source_hidden": true
    }
   },
   "outputs": [],
   "source": [
    "def get_range(coll):\n",
    "    return (min(coll), max(coll))"
   ]
  },
  {
   "cell_type": "code",
   "execution_count": null,
   "metadata": {
    "jupyter": {
     "source_hidden": true
    }
   },
   "outputs": [],
   "source": [
    "#chem-gene or gene-chem\n",
    "def match_links_entities(doc, subtree, start_entity=[\"CHEMICAL\", \"SIMPLE_CHEMICAL\"], end_entity=[\"GENE\", \"GENE_OR_GENE_PRODUCT\"])->bool:\n",
    "    \"\"\"checks if match is a wanted pair. TODO: let construct_pattern handle this from the start\n",
    "    subtree ~ [0, 5, 8, ...] (tokenIdx)\n",
    "    \"\"\"\n",
    "    "
   ]
  },
  {
   "cell_type": "code",
   "execution_count": null,
   "metadata": {
    "jupyter": {
     "source_hidden": true
    }
   },
   "outputs": [],
   "source": [
    "from typing import Tuple\n",
    "def theme_support(dep_path, dist:Dict)->List[Tuple]:\n",
    "    \"\"\"get non-null GNBR supports for a given dependency path (needs distributions)\"\"\"\n",
    "    supports = dist[dep_path].items()\n",
    "    return [(a,b) for a,b in supports if b>0]"
   ]
  },
  {
   "cell_type": "code",
   "execution_count": 51,
   "metadata": {},
   "outputs": [
    {
     "data": {
      "text/plain": [
       "str"
      ]
     },
     "execution_count": 51,
     "metadata": {},
     "output_type": "execute_result"
    }
   ],
   "source": [
    "type(target_sents[1].text)"
   ]
  },
  {
   "cell_type": "code",
   "execution_count": 61,
   "metadata": {},
   "outputs": [
    {
     "data": {
      "text/plain": [
       "['domain|compound|start_entity domain|nmod|end_entity',\n",
       " 'inhibitor|appos|start_entity inhibitor|compound|end_entity',\n",
       " 'fingers|compound|start_entity fingers|nmod|end_entity',\n",
       " 'protein|compound|start_entity protein|nsubj|end_entity',\n",
       " 'factor|compound|start_entity factor|nsubj|end_entity',\n",
       " 'finger|compound|start_entity finger|nmod|end_entity',\n",
       " 'protein|compound|start_entity protein|appos|end_entity',\n",
       " 'gene|compound|start_entity gene|appos|end_entity',\n",
       " 'dismutase|compound|start_entity dismutase|appos|end_entity',\n",
       " 'finger|compound|start_entity finger|compound|end_entity',\n",
       " 'inhibitor|nsubj|start_entity inhibitor|nmod|end_entity',\n",
       " 'factor|compound|start_entity factor|appos|end_entity',\n",
       " 'region|compound|start_entity region|nmod|end_entity',\n",
       " 'finger|compound|start_entity finger|appos|end_entity',\n",
       " 'transporter|compound|start_entity transporter|appos|end_entity']"
      ]
     },
     "execution_count": 61,
     "metadata": {},
     "output_type": "execute_result"
    }
   ],
   "source": [
    "example = [\n",
    "    \"prevented|nsubj|START_ENTITY prevented|dobj|END_ENTITY\",\n",
    "    \"causes|nsubj|START_ENTITY causes|dobj|END_ENTITY\"\n",
    "]\n",
    "patterns = [dep[\"dep_path\"] for dep in deps[:15]]\n",
    "patterns"
   ]
  },
  {
   "cell_type": "code",
   "execution_count": 63,
   "metadata": {},
   "outputs": [
    {
     "data": {
      "text/plain": [
       "['a', 'b', 'c']"
      ]
     },
     "execution_count": 63,
     "metadata": {},
     "output_type": "execute_result"
    }
   ],
   "source": [
    "[\"a\", \"b\"] + [\"c\"]"
   ]
  },
  {
   "cell_type": "code",
   "execution_count": 67,
   "metadata": {},
   "outputs": [
    {
     "data": {
      "text/plain": [
       "{'inhibitor|appos|start_entity inhibitor|compound|end_entity': [{'doc_idx': 205,\n",
       "   'span': 'c-Myc inhibitor , 10058-F4',\n",
       "   'sents': [A small-molecule c-Myc inhibitor , 10058-F4 , induces cell-cycle arrest , apoptosis , and myeloid differentiation of human acute_myeloid_leukemia .],\n",
       "   'matches': [[3, 5, 2]],\n",
       "   'sent_ents': [[small-molecule,\n",
       "     inhibitor,\n",
       "     10058-F4,\n",
       "     induces cell-cycle arrest,\n",
       "     apoptosis,\n",
       "     myeloid,\n",
       "     differentiation,\n",
       "     human]]},\n",
       "  {'doc_idx': 205,\n",
       "   'span': 'small molecule c-Myc inhibitor , 10058-F4',\n",
       "   'sents': [Furthermore , we found a comparable decrease in proliferation and G0/G1 accumulation of 786-0 and RC-2 cells after treatment with a small molecule c-Myc inhibitor , 10058-F4 .],\n",
       "   'matches': [[23, 25, 22]],\n",
       "   'sent_ents': [[decrease,\n",
       "     proliferation,\n",
       "     G0/G1,\n",
       "     accumulation,\n",
       "     RC-2 cells,\n",
       "     treatment,\n",
       "     small molecule c-Myc,\n",
       "     10058-F4]]},\n",
       "  {'doc_idx': 205,\n",
       "   'span': 'PTEN inhibitor , potassium_bisperoxo',\n",
       "   'sents': [EXPERIMENTAL APPROACH : We evaluated the ability of a PTEN inhibitor , potassium_bisperoxo -LRB- 1,10-phenanthroline -RRB- oxovanadate -LSB- bpV -LRB- phen -RRB- -RSB- , to prevent acute_lung_injury induced by oleic_acid -LRB- OA -RRB- in adult C57BL/6 mice .],\n",
       "   'matches': [[10, 12, 9]],\n",
       "   'sent_ents': [[EXPERIMENTAL,\n",
       "     evaluated,\n",
       "     ability,\n",
       "     PTEN,\n",
       "     inhibitor,\n",
       "     potassium_bisperoxo,\n",
       "     1,10-phenanthroline,\n",
       "     oxovanadate,\n",
       "     bpV,\n",
       "     phen,\n",
       "     prevent,\n",
       "     induced,\n",
       "     oleic_acid,\n",
       "     OA,\n",
       "     adult C57BL/6 mice]]},\n",
       "  {'doc_idx': 205,\n",
       "   'span': 'mEH inhibitors , 1,1,1-trichloropropene_2,3-oxide',\n",
       "   'sents': [All mEH inhibitors , 1,1,1-trichloropropene_2,3-oxide -LRB- TCPO -RRB- , cyclohexene_oxide , and 2-bromo-4 ' - nitroacetophenone -LRB- BrNAP -RRB- , suppressed hydrolase activity .],\n",
       "   'matches': [[2, 4, 1]],\n",
       "   'sent_ents': [[mEH,\n",
       "     TCPO,\n",
       "     cyclohexene_oxide,\n",
       "     nitroacetophenone,\n",
       "     BrNAP,\n",
       "     suppressed hydrolase activity]]},\n",
       "  {'doc_idx': 205,\n",
       "   'span': '11b-hydroxysteroid dehydrogenase type 1 -LRB- HSD1 -RRB- inhibitor , MK-0916',\n",
       "   'sents': [AIM : We examined the effects of the 11b-hydroxysteroid dehydrogenase type 1 -LRB- HSD1 -RRB- inhibitor , MK-0916 , on the multiple components of the metabolic_syndrome -LRB- MetS -RRB- in patients with type 2 diabetes -LRB- T2DM -RRB- and MetS .],\n",
       "   'matches': [[11, 13, 7], [11, 13, 9]],\n",
       "   'sent_ents': [[AIM,\n",
       "     effects of,\n",
       "     11b-hydroxysteroid dehydrogenase type 1,\n",
       "     HSD1,\n",
       "     inhibitor,\n",
       "     MK-0916,\n",
       "     multiple components,\n",
       "     metabolic_syndrome,\n",
       "     MetS,\n",
       "     patients,\n",
       "     type 2 diabetes,\n",
       "     T2DM,\n",
       "     MetS]]}],\n",
       " 'inhibitor|nsubj|start_entity inhibitor|nmod|end_entity': [{'doc_idx': 205,\n",
       "   'span': '10-Hydroxywarfarin , which has been reported as the second most abundant plasma metabolite , was the most potent inhibitor of CYP2C9',\n",
       "   'sents': [10-Hydroxywarfarin , which has been reported as the second most abundant plasma metabolite , was the most potent inhibitor of CYP2C9 , displaying approximately 3-fold higher affinity than S-warfarin .],\n",
       "   'matches': [[18, 0, 20]],\n",
       "   'sent_ents': [[abundant,\n",
       "     plasma,\n",
       "     metabolite,\n",
       "     inhibitor,\n",
       "     CYP2C9,\n",
       "     higher,\n",
       "     affinity,\n",
       "     S-warfarin]]},\n",
       "  {'doc_idx': 205,\n",
       "   'span': 'Nelfinavir and its analogs are more potent inhibitors of S2P cleavage activity',\n",
       "   'sents': [Nelfinavir and its analogs are more potent inhibitors of S2P cleavage activity than 1,10-phenanthroline , a metalloprotease-specific inhibitor .],\n",
       "   'matches': [[7, 0, 11]],\n",
       "   'sent_ents': [[Nelfinavir,\n",
       "     analogs,\n",
       "     inhibitors,\n",
       "     S2P,\n",
       "     cleavage,\n",
       "     1,10-phenanthroline,\n",
       "     metalloprotease-specific inhibitor]]},\n",
       "  {'doc_idx': 205,\n",
       "   'span': 'CRALBP.11-cis-retinol was not an inhibitor of the esterification',\n",
       "   'sents': [Other experiments confirmed that `` free '' 11-cis-retinol was esterified more rapidly than 11-cis-retinol complexed with CRALBP and that CRALBP.11-cis-retinol was not an inhibitor of the esterification .],\n",
       "   'matches': [[24, 20, 27]],\n",
       "   'sent_ents': [[experiments,\n",
       "     esterified,\n",
       "     11-cis-retinol,\n",
       "     complexed,\n",
       "     CRALBP,\n",
       "     CRALBP.11-cis-retinol,\n",
       "     inhibitor,\n",
       "     esterification]]}]}"
      ]
     },
     "execution_count": 67,
     "metadata": {},
     "output_type": "execute_result"
    }
   ],
   "source": [
    "matcher = add_matches(nlp.vocab, patterns, start_ents=[\"CHEMICAL\", \"SIMPLE_CHEMICAL\"], end_ents=[\"GENE\", \"GENE_OR_GENE_PRODUCT\"])\n",
    "matched_sents = match_texts(matcher, [nlp(ts.text) for ts in target_sents] ,nlp)\n",
    "matched_sents"
   ]
  },
  {
   "cell_type": "markdown",
   "metadata": {},
   "source": [
    "### What pattern yields most on PubMed? On GNBR_500 (might be sorted...and skewed sentences)"
   ]
  },
  {
   "cell_type": "markdown",
   "metadata": {},
   "source": [
    "## Precision on PubMed\n",
    "Get pubmed sentences with Chem-Gene pairs (500 in the 750 abstracts) and see if there's some matches with the top dep patterns from GNBR"
   ]
  },
  {
   "cell_type": "code",
   "execution_count": null,
   "metadata": {},
   "outputs": [],
   "source": [
    "#TODO check if theme support among paths is evenly distributed"
   ]
  },
  {
   "cell_type": "code",
   "execution_count": null,
   "metadata": {},
   "outputs": [],
   "source": [
    "#invalid pattern\n",
    "construct_pattern('causes|nsubj|END_ENTITY causes|dobj|START_ENTITY')"
   ]
  }
 ],
 "metadata": {
  "kernelspec": {
   "display_name": "Python 3",
   "language": "python",
   "name": "python3"
  },
  "language_info": {
   "codemirror_mode": {
    "name": "ipython",
    "version": 3
   },
   "file_extension": ".py",
   "mimetype": "text/x-python",
   "name": "python",
   "nbconvert_exporter": "python",
   "pygments_lexer": "ipython3",
   "version": "3.8.3"
  }
 },
 "nbformat": 4,
 "nbformat_minor": 4
}
