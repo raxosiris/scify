{
 "cells": [
  {
   "cell_type": "markdown",
   "metadata": {},
   "source": [
    "Without NEL for now, just pattern matching, and linguistic heuristics to remove unpromising sentences from the pipeline\n",
    "\n",
    "\n",
    "\n",
    "[ 1 ] Sentence Level check Filter before NER/NEL/neg Basic Tagger + Tokenizer\n",
    "    => Len, SDP-len, Dep_complexity. TRIGGER WORDS! (cause, inhibit, therefore)\n",
    " \n",
    "[ 2 ] Remaining sentences (with doc context needed for NER context??) =>\n",
    "\n",
    "\n",
    "[ 3 ] Use construct_pattern and GNBR dep paths to look at hits in different datasets"
   ]
  },
  {
   "cell_type": "code",
   "execution_count": 200,
   "metadata": {},
   "outputs": [],
   "source": [
    "%load_ext autoreload\n",
    "%autoreload 2\n",
    "\n",
    "import spacy\n",
    "from negspacy.negation import Negex #https://github.com/jenojp/negspacy\n",
    "from spacy.pipeline import EntityRuler\n",
    "from extractacy.extract import ValueExtractor"
   ]
  },
  {
   "cell_type": "code",
   "execution_count": 152,
   "metadata": {},
   "outputs": [],
   "source": [
    "from scify.nlp import *\n",
    "from scify.consts import labels\n",
    "\n",
    "nlp = load_sci_pipe()"
   ]
  },
  {
   "cell_type": "code",
   "execution_count": 153,
   "metadata": {},
   "outputs": [],
   "source": [
    "\n",
    "negex = Negex(nlp, language=\"en_clinical_sensitive\")\n",
    "nlp.add_pipe(negex, last=True) #works on an per entity basis. If causal phrases become entities?"
   ]
  },
  {
   "cell_type": "code",
   "execution_count": null,
   "metadata": {},
   "outputs": [],
   "source": [
    "Doc.set_extension('my_ents', default=None)\n",
    "\n",
    "#add to pipeline (for multiple docs...merging)\n",
    "def move_ents_to_attr(doc):\n",
    "    if doc._.my_ents is None:\n",
    "        doc._.my_ents = []\n",
    "    doc._.my_ents.extend(doc.ents)\n",
    "    doc.ents = []\n",
    "    return doc\n"
   ]
  },
  {
   "cell_type": "code",
   "execution_count": null,
   "metadata": {},
   "outputs": [],
   "source": [
    "#add_matches\n",
    "#\n",
    "#FOCUS on ONE DATASET WITH ONE PIPELINE ... TRAIN THE PATTERN MATCHING and EXTRACTION part, not the UTIL WRITING PART!!!!\n",
    "\n",
    "const TRIGGERS = {\n",
    "    causal: [], #biocause paper ~10 phrases\n",
    "}\n",
    "\n",
    "def discourse_section(abstract)->str: #conclusion, intro, etc.\n",
    "    return\n",
    "\n",
    "def pattern_from_shortest_dep_path():\n",
    "    5\n",
    "\n",
    "#def SDP(doc:Doc, a:Union[Span, Token], b: Union[Span, Token])->List[Union[Span,Token]]:\n",
    "\n",
    "get_sdp_path(doc, 0, 7)\n",
    "#=> have|nsubj|Start_entity have|dobj|* *|*1|end_entity\n",
    "\n",
    "def GNBR_valid_patterns()->List[str]:\n",
    "    \"\"\"the construct pattern method returns null if not valid (if dep path is not a DAG?)\"\"\"\n",
    "    return\n",
    "\n",
    "def \n",
    "\n",
    "def has_trigger_spans([triggers] = TRIGGERS[\"causality\"])->bool:\n",
    "    \"\"\"pre-parsing filter to focus on good candidates\"\"\"\n",
    "    return\n",
    "\n",
    "def GNBR_support(supports: Dict, MAP=GNBR_themes):\n",
    "    \"\"\"Maps and filters the GNBR support theme dict for fast feedback without you having to lookup the paper all the time\"\"\"\n",
    "    \n",
    "    return "
   ]
  },
  {
   "cell_type": "code",
   "execution_count": 99,
   "metadata": {},
   "outputs": [],
   "source": [
    "import csv\n",
    "import json\n",
    "with open('../data/Causaly_small.csv', newline='') as csvfile:\n",
    "    reader = csv.DictReader(csvfile)\n",
    "    cause_small = [* reader]"
   ]
  },
  {
   "cell_type": "code",
   "execution_count": 68,
   "metadata": {},
   "outputs": [],
   "source": [
    "with open(\"../data/wikimed.json\") as f:\n",
    "    wm=[json.loads(d) for d in [* f]]"
   ]
  },
  {
   "cell_type": "code",
   "execution_count": 100,
   "metadata": {},
   "outputs": [],
   "source": [
    "from more_itertools import partition\n",
    "causal_sents, non_causal_sents = partition(lambda d: int(d[\"Annotated_Causal\"]) == 0, cause_small)"
   ]
  },
  {
   "cell_type": "code",
   "execution_count": 95,
   "metadata": {},
   "outputs": [
    {
     "data": {
      "text/plain": [
       "<itertools.filterfalse at 0x10a8b6fa0>"
      ]
     },
     "execution_count": 95,
     "metadata": {},
     "output_type": "execute_result"
    }
   ],
   "source": [
    "causal_sents"
   ]
  },
  {
   "cell_type": "code",
   "execution_count": 101,
   "metadata": {},
   "outputs": [],
   "source": [
    "cause_docs = [nlp(c[\"Sentence\"]) for c in causal_sents]\n",
    "#for doc, meta in nlp.pipe(messages, as_tuples=True):\n",
    "    # do something with the docs and meta, e.g. add it to a custom attribute\n",
    "  #  doc._.meta_data = meta"
   ]
  },
  {
   "cell_type": "code",
   "execution_count": 149,
   "metadata": {},
   "outputs": [
    {
     "data": {
      "text/plain": [
       "[Stemming from these experiences , students tend to change their perspectives on their role as physicians and define the type of physician they wish to be .,\n",
       " To explain why n-3 PUFA decreases the level of Hcy , we examined the effect of n-3 PUFA on the mRNA expression of genes encoding the critical enzymes involved in methionine metabolism .,\n",
       " Our findings suggest that a low dose of THC produces subjective stress-relieving effects in line with those commonly reported among cannabis users , but that higher doses may non-specifically increase negative mood .,\n",
       " Prevention of diarrhea , severe respiratory tract infections , and anemia are likely to decrease the burden of wasting .]"
      ]
     },
     "execution_count": 149,
     "metadata": {},
     "output_type": "execute_result"
    }
   ],
   "source": [
    "cause_docs[12:16]"
   ]
  },
  {
   "cell_type": "code",
   "execution_count": 103,
   "metadata": {},
   "outputs": [
    {
     "data": {
      "text/plain": [
       "151"
      ]
     },
     "execution_count": 103,
     "metadata": {},
     "output_type": "execute_result"
    }
   ],
   "source": [
    "negex_docs = [doc for doc in cause_docs if any([e._.negex for e in doc.ents])]\n"
   ]
  },
  {
   "cell_type": "code",
   "execution_count": 147,
   "metadata": {},
   "outputs": [
    {
     "data": {
      "text/plain": [
       "[{'I did not have sexual intercourse with that woman': [sexual intercourse,\n",
       "   woman]}]"
      ]
     },
     "execution_count": 147,
     "metadata": {},
     "output_type": "execute_result"
    }
   ],
   "source": [
    "doc = nlp(\"I did not have sexual intercourse with that woman\")\n",
    "show_negex_entities([doc])"
   ]
  },
  {
   "cell_type": "code",
   "execution_count": 150,
   "metadata": {},
   "outputs": [
    {
     "data": {
      "text/plain": [
       "[{'It reported that higher facial symmetry was significantly associated with faster and less variable CRT in men , but not in women , and did not correlate with SRT or SRT variability .': [women,\n",
       "   SRT,\n",
       "   SRT,\n",
       "   variability]},\n",
       " {'Although multivessel coronary artery disease is not associated with impaired reperfusion success assessed by cardiac magnetic resonance imaging , patients with multivessel disease are at a high risk of adverse clinical outcomes .': [associated with,\n",
       "   impaired,\n",
       "   reperfusion,\n",
       "   success,\n",
       "   assessed,\n",
       "   cardiac magnetic resonance imaging,\n",
       "   patients,\n",
       "   multivessel disease,\n",
       "   high risk,\n",
       "   adverse clinical]}]"
      ]
     },
     "execution_count": 150,
     "metadata": {},
     "output_type": "execute_result"
    }
   ],
   "source": [
    "show_negex_entities(cause_docs[:10])"
   ]
  },
  {
   "cell_type": "code",
   "execution_count": 154,
   "metadata": {},
   "outputs": [
    {
     "data": {
      "text/plain": [
       "(Although multivessel coronary artery disease is not associated with impaired reperfusion success assessed by cardiac magnetic resonance imaging , patients with multivessel disease are at a high risk of adverse clinical outcomes .,\n",
       " 151,\n",
       " 1113)"
      ]
     },
     "execution_count": 154,
     "metadata": {},
     "output_type": "execute_result"
    }
   ],
   "source": [
    "negex_docs[:3][1], len(negex_docs), len(cause_docs)"
   ]
  },
  {
   "cell_type": "code",
   "execution_count": 222,
   "metadata": {},
   "outputs": [],
   "source": [
    "from scify.networks import get_sdp_path"
   ]
  },
  {
   "cell_type": "code",
   "execution_count": 223,
   "metadata": {},
   "outputs": [
    {
     "data": {
      "text/html": [
       "<span class=\"tex2jax_ignore\"><svg xmlns=\"http://www.w3.org/2000/svg\" xmlns:xlink=\"http://www.w3.org/1999/xlink\" xml:lang=\"en\" id=\"e1af67ad2d6148d39691aef3ec6208d5-0\" class=\"displacy\" width=\"1010\" height=\"317.0\" direction=\"ltr\" style=\"max-width: none; height: 317.0px; color: #000000; background: #ffffff; font-family: Arial; direction: ltr\">\n",
       "<text class=\"displacy-token\" fill=\"currentColor\" text-anchor=\"middle\" y=\"227.0\">\n",
       "    <tspan class=\"displacy-word\" fill=\"currentColor\" x=\"50\">I</tspan>\n",
       "    <tspan class=\"displacy-tag\" dy=\"2em\" fill=\"currentColor\" x=\"50\">PRON</tspan>\n",
       "</text>\n",
       "\n",
       "<text class=\"displacy-token\" fill=\"currentColor\" text-anchor=\"middle\" y=\"227.0\">\n",
       "    <tspan class=\"displacy-word\" fill=\"currentColor\" x=\"170\">did</tspan>\n",
       "    <tspan class=\"displacy-tag\" dy=\"2em\" fill=\"currentColor\" x=\"170\">AUX</tspan>\n",
       "</text>\n",
       "\n",
       "<text class=\"displacy-token\" fill=\"currentColor\" text-anchor=\"middle\" y=\"227.0\">\n",
       "    <tspan class=\"displacy-word\" fill=\"currentColor\" x=\"290\">not</tspan>\n",
       "    <tspan class=\"displacy-tag\" dy=\"2em\" fill=\"currentColor\" x=\"290\">PART</tspan>\n",
       "</text>\n",
       "\n",
       "<text class=\"displacy-token\" fill=\"currentColor\" text-anchor=\"middle\" y=\"227.0\">\n",
       "    <tspan class=\"displacy-word\" fill=\"currentColor\" x=\"410\">have</tspan>\n",
       "    <tspan class=\"displacy-tag\" dy=\"2em\" fill=\"currentColor\" x=\"410\">AUX</tspan>\n",
       "</text>\n",
       "\n",
       "<text class=\"displacy-token\" fill=\"currentColor\" text-anchor=\"middle\" y=\"227.0\">\n",
       "    <tspan class=\"displacy-word\" fill=\"currentColor\" x=\"530\">sexual intercourse</tspan>\n",
       "    <tspan class=\"displacy-tag\" dy=\"2em\" fill=\"currentColor\" x=\"530\">NOUN</tspan>\n",
       "</text>\n",
       "\n",
       "<text class=\"displacy-token\" fill=\"currentColor\" text-anchor=\"middle\" y=\"227.0\">\n",
       "    <tspan class=\"displacy-word\" fill=\"currentColor\" x=\"650\">with</tspan>\n",
       "    <tspan class=\"displacy-tag\" dy=\"2em\" fill=\"currentColor\" x=\"650\">ADP</tspan>\n",
       "</text>\n",
       "\n",
       "<text class=\"displacy-token\" fill=\"currentColor\" text-anchor=\"middle\" y=\"227.0\">\n",
       "    <tspan class=\"displacy-word\" fill=\"currentColor\" x=\"770\">that</tspan>\n",
       "    <tspan class=\"displacy-tag\" dy=\"2em\" fill=\"currentColor\" x=\"770\">DET</tspan>\n",
       "</text>\n",
       "\n",
       "<text class=\"displacy-token\" fill=\"currentColor\" text-anchor=\"middle\" y=\"227.0\">\n",
       "    <tspan class=\"displacy-word\" fill=\"currentColor\" x=\"890\">woman</tspan>\n",
       "    <tspan class=\"displacy-tag\" dy=\"2em\" fill=\"currentColor\" x=\"890\">NOUN</tspan>\n",
       "</text>\n",
       "\n",
       "<g class=\"displacy-arrow\">\n",
       "    <path class=\"displacy-arc\" id=\"arrow-e1af67ad2d6148d39691aef3ec6208d5-0-0\" stroke-width=\"2px\" d=\"M70,182.0 C70,2.0 410.0,2.0 410.0,182.0\" fill=\"none\" stroke=\"currentColor\"/>\n",
       "    <text dy=\"1.25em\" style=\"font-size: 0.8em; letter-spacing: 1px\">\n",
       "        <textPath xlink:href=\"#arrow-e1af67ad2d6148d39691aef3ec6208d5-0-0\" class=\"displacy-label\" startOffset=\"50%\" side=\"left\" fill=\"currentColor\" text-anchor=\"middle\">nsubj</textPath>\n",
       "    </text>\n",
       "    <path class=\"displacy-arrowhead\" d=\"M70,184.0 L62,172.0 78,172.0\" fill=\"currentColor\"/>\n",
       "</g>\n",
       "\n",
       "<g class=\"displacy-arrow\">\n",
       "    <path class=\"displacy-arc\" id=\"arrow-e1af67ad2d6148d39691aef3ec6208d5-0-1\" stroke-width=\"2px\" d=\"M190,182.0 C190,62.0 405.0,62.0 405.0,182.0\" fill=\"none\" stroke=\"currentColor\"/>\n",
       "    <text dy=\"1.25em\" style=\"font-size: 0.8em; letter-spacing: 1px\">\n",
       "        <textPath xlink:href=\"#arrow-e1af67ad2d6148d39691aef3ec6208d5-0-1\" class=\"displacy-label\" startOffset=\"50%\" side=\"left\" fill=\"currentColor\" text-anchor=\"middle\">aux</textPath>\n",
       "    </text>\n",
       "    <path class=\"displacy-arrowhead\" d=\"M190,184.0 L182,172.0 198,172.0\" fill=\"currentColor\"/>\n",
       "</g>\n",
       "\n",
       "<g class=\"displacy-arrow\">\n",
       "    <path class=\"displacy-arc\" id=\"arrow-e1af67ad2d6148d39691aef3ec6208d5-0-2\" stroke-width=\"2px\" d=\"M310,182.0 C310,122.0 400.0,122.0 400.0,182.0\" fill=\"none\" stroke=\"currentColor\"/>\n",
       "    <text dy=\"1.25em\" style=\"font-size: 0.8em; letter-spacing: 1px\">\n",
       "        <textPath xlink:href=\"#arrow-e1af67ad2d6148d39691aef3ec6208d5-0-2\" class=\"displacy-label\" startOffset=\"50%\" side=\"left\" fill=\"currentColor\" text-anchor=\"middle\">neg</textPath>\n",
       "    </text>\n",
       "    <path class=\"displacy-arrowhead\" d=\"M310,184.0 L302,172.0 318,172.0\" fill=\"currentColor\"/>\n",
       "</g>\n",
       "\n",
       "<g class=\"displacy-arrow\">\n",
       "    <path class=\"displacy-arc\" id=\"arrow-e1af67ad2d6148d39691aef3ec6208d5-0-3\" stroke-width=\"2px\" d=\"M430,182.0 C430,122.0 520.0,122.0 520.0,182.0\" fill=\"none\" stroke=\"currentColor\"/>\n",
       "    <text dy=\"1.25em\" style=\"font-size: 0.8em; letter-spacing: 1px\">\n",
       "        <textPath xlink:href=\"#arrow-e1af67ad2d6148d39691aef3ec6208d5-0-3\" class=\"displacy-label\" startOffset=\"50%\" side=\"left\" fill=\"currentColor\" text-anchor=\"middle\">dobj</textPath>\n",
       "    </text>\n",
       "    <path class=\"displacy-arrowhead\" d=\"M520.0,184.0 L528.0,172.0 512.0,172.0\" fill=\"currentColor\"/>\n",
       "</g>\n",
       "\n",
       "<g class=\"displacy-arrow\">\n",
       "    <path class=\"displacy-arc\" id=\"arrow-e1af67ad2d6148d39691aef3ec6208d5-0-4\" stroke-width=\"2px\" d=\"M550,182.0 C550,122.0 640.0,122.0 640.0,182.0\" fill=\"none\" stroke=\"currentColor\"/>\n",
       "    <text dy=\"1.25em\" style=\"font-size: 0.8em; letter-spacing: 1px\">\n",
       "        <textPath xlink:href=\"#arrow-e1af67ad2d6148d39691aef3ec6208d5-0-4\" class=\"displacy-label\" startOffset=\"50%\" side=\"left\" fill=\"currentColor\" text-anchor=\"middle\">prep</textPath>\n",
       "    </text>\n",
       "    <path class=\"displacy-arrowhead\" d=\"M640.0,184.0 L648.0,172.0 632.0,172.0\" fill=\"currentColor\"/>\n",
       "</g>\n",
       "\n",
       "<g class=\"displacy-arrow\">\n",
       "    <path class=\"displacy-arc\" id=\"arrow-e1af67ad2d6148d39691aef3ec6208d5-0-5\" stroke-width=\"2px\" d=\"M790,182.0 C790,122.0 880.0,122.0 880.0,182.0\" fill=\"none\" stroke=\"currentColor\"/>\n",
       "    <text dy=\"1.25em\" style=\"font-size: 0.8em; letter-spacing: 1px\">\n",
       "        <textPath xlink:href=\"#arrow-e1af67ad2d6148d39691aef3ec6208d5-0-5\" class=\"displacy-label\" startOffset=\"50%\" side=\"left\" fill=\"currentColor\" text-anchor=\"middle\">det</textPath>\n",
       "    </text>\n",
       "    <path class=\"displacy-arrowhead\" d=\"M790,184.0 L782,172.0 798,172.0\" fill=\"currentColor\"/>\n",
       "</g>\n",
       "\n",
       "<g class=\"displacy-arrow\">\n",
       "    <path class=\"displacy-arc\" id=\"arrow-e1af67ad2d6148d39691aef3ec6208d5-0-6\" stroke-width=\"2px\" d=\"M670,182.0 C670,62.0 885.0,62.0 885.0,182.0\" fill=\"none\" stroke=\"currentColor\"/>\n",
       "    <text dy=\"1.25em\" style=\"font-size: 0.8em; letter-spacing: 1px\">\n",
       "        <textPath xlink:href=\"#arrow-e1af67ad2d6148d39691aef3ec6208d5-0-6\" class=\"displacy-label\" startOffset=\"50%\" side=\"left\" fill=\"currentColor\" text-anchor=\"middle\">pobj</textPath>\n",
       "    </text>\n",
       "    <path class=\"displacy-arrowhead\" d=\"M885.0,184.0 L893.0,172.0 877.0,172.0\" fill=\"currentColor\"/>\n",
       "</g>\n",
       "</svg></span>"
      ],
      "text/plain": [
       "<IPython.core.display.HTML object>"
      ]
     },
     "metadata": {},
     "output_type": "display_data"
    },
    {
     "data": {
      "text/html": [
       "<span class=\"tex2jax_ignore\"><div class=\"entities\" style=\"line-height: 2.5; direction: ltr\">\n",
       "<mark class=\"entity\" style=\"background: #ddd; padding: 0.45em 0.6em; margin: 0 0.25em; line-height: 1; border-radius: 0.35em;\">\n",
       "    I\n",
       "    <span style=\"font-size: 0.8em; font-weight: bold; line-height: 1; border-radius: 0.35em; text-transform: uppercase; vertical-align: middle; margin-left: 0.5rem\">ENTITY</span>\n",
       "</mark>\n",
       " did not have \n",
       "<mark class=\"entity\" style=\"background: #ddd; padding: 0.45em 0.6em; margin: 0 0.25em; line-height: 1; border-radius: 0.35em;\">\n",
       "    sexual intercourse\n",
       "    <span style=\"font-size: 0.8em; font-weight: bold; line-height: 1; border-radius: 0.35em; text-transform: uppercase; vertical-align: middle; margin-left: 0.5rem\">ENTITY</span>\n",
       "</mark>\n",
       " with that \n",
       "<mark class=\"entity\" style=\"background: #ddd; padding: 0.45em 0.6em; margin: 0 0.25em; line-height: 1; border-radius: 0.35em;\">\n",
       "    woman\n",
       "    <span style=\"font-size: 0.8em; font-weight: bold; line-height: 1; border-radius: 0.35em; text-transform: uppercase; vertical-align: middle; margin-left: 0.5rem\">ENTITY</span>\n",
       "</mark>\n",
       "</div></span>"
      ],
      "text/plain": [
       "<IPython.core.display.HTML object>"
      ]
     },
     "metadata": {},
     "output_type": "display_data"
    }
   ],
   "source": [
    "visualise_doc(doc)"
   ]
  },
  {
   "cell_type": "code",
   "execution_count": 175,
   "metadata": {},
   "outputs": [],
   "source": [
    "from scify.vis import hierplane, tree_vis"
   ]
  },
  {
   "cell_type": "code",
   "execution_count": 181,
   "metadata": {},
   "outputs": [
    {
     "data": {
      "text/plain": [
       "[(have, have, False, I, 'nsubj'),\n",
       " (have, False, have, 'ROOT'),\n",
       " (have, have, False, sexual intercourse, 'dobj'),\n",
       " (sexual intercourse, sexual intercourse, have, False, with, 'prep'),\n",
       " (with, with, sexual intercourse, have, False, woman, 'pobj')]"
      ]
     },
     "execution_count": 181,
     "metadata": {},
     "output_type": "execute_result"
    }
   ],
   "source": [
    "[(tok.head, * tok.ancestors, tok.is_ancestor(tok), tok, tok.dep_) for tok in get_sdp_path(doc, 0, 7)]"
   ]
  },
  {
   "cell_type": "code",
   "execution_count": null,
   "metadata": {},
   "outputs": [],
   "source": []
  },
  {
   "cell_type": "code",
   "execution_count": 234,
   "metadata": {},
   "outputs": [],
   "source": [
    "from scify.V import V"
   ]
  },
  {
   "cell_type": "code",
   "execution_count": 240,
   "metadata": {},
   "outputs": [
    {
     "data": {
      "text/plain": [
       "<generator at 0x1df3f7c10>"
      ]
     },
     "execution_count": 240,
     "metadata": {},
     "output_type": "execute_result"
    }
   ],
   "source": [
    "doc[4].ancestors"
   ]
  },
  {
   "cell_type": "code",
   "execution_count": 171,
   "metadata": {},
   "outputs": [
    {
     "name": "stdout",
     "output_type": "stream",
     "text": [
      "token               lemma               POS    Tag    DEP    shape      is_alpha    is_stop\n",
      "------------------  ------------------  -----  -----  -----  ---------  ----------  ---------\n",
      "I                   -PRON-              PRON   PRP    nsubj  X          True        True\n",
      "did                 do                  AUX    VBD    aux    xxx        True        True\n",
      "not                 not                 PART   RB     neg    xxx        True        True\n",
      "have                have                AUX    VB     ROOT   xxxx       True        True\n",
      "sexual intercourse  sexual intercourse  NOUN   NN     dobj   xxxx xxxx  False       False\n",
      "with                with                ADP    IN     prep   xxxx       True        True\n",
      "that                that                DET    DT     det    xxxx       True        True\n",
      "woman               woman               NOUN   NN     pobj   xxxx       True        False\n"
     ]
    },
    {
     "data": {
      "text/plain": [
       "'Printed Table above'"
      ]
     },
     "execution_count": 171,
     "metadata": {},
     "output_type": "execute_result"
    }
   ],
   "source": [
    "show_tabs(doc)"
   ]
  },
  {
   "cell_type": "code",
   "execution_count": 92,
   "metadata": {},
   "outputs": [
    {
     "data": {
      "text/plain": [
       "{'pseudo_patterns': [no further,\n",
       "  not able to be,\n",
       "  not certain if,\n",
       "  not certain whether,\n",
       "  not necessarily,\n",
       "  without any further,\n",
       "  without difficulty,\n",
       "  without further,\n",
       "  might not,\n",
       "  not only,\n",
       "  no increase,\n",
       "  no significant change,\n",
       "  no change,\n",
       "  no definite change,\n",
       "  not extend,\n",
       "  not cause,\n",
       "  not certain if,\n",
       "  not certain whether,\n",
       "  gram negative,\n",
       "  not rule out,\n",
       "  not ruled out,\n",
       "  not been ruled out,\n",
       "  not drain,\n",
       "  no suspicious change,\n",
       "  no interval change,\n",
       "  no significant interval change],\n",
       " 'preceding_patterns': [absence of,\n",
       "  declined,\n",
       "  denied,\n",
       "  denies,\n",
       "  denying,\n",
       "  no sign of,\n",
       "  no signs of,\n",
       "  not,\n",
       "  not demonstrate,\n",
       "  symptoms atypical,\n",
       "  doubt,\n",
       "  negative for,\n",
       "  no,\n",
       "  versus,\n",
       "  without,\n",
       "  doesn't,\n",
       "  doesnt,\n",
       "  don't,\n",
       "  dont,\n",
       "  didn't,\n",
       "  didnt,\n",
       "  wasn't,\n",
       "  wasnt,\n",
       "  weren't,\n",
       "  werent,\n",
       "  isn't,\n",
       "  isnt,\n",
       "  aren't,\n",
       "  arent,\n",
       "  cannot,\n",
       "  can't,\n",
       "  cant,\n",
       "  couldn't,\n",
       "  couldnt,\n",
       "  never,\n",
       "  patient was not,\n",
       "  without indication of,\n",
       "  without sign of,\n",
       "  without signs of,\n",
       "  without any reactions or signs of,\n",
       "  no complaints of,\n",
       "  no evidence of,\n",
       "  no cause of,\n",
       "  evaluate for,\n",
       "  fails to reveal,\n",
       "  free of,\n",
       "  never developed,\n",
       "  never had,\n",
       "  did not exhibit,\n",
       "  rules out,\n",
       "  rule out,\n",
       "  rule him out,\n",
       "  rule her out,\n",
       "  rule patient out,\n",
       "  rule the patient out,\n",
       "  ruled out,\n",
       "  ruled him outruled her out,\n",
       "  ruled patient out,\n",
       "  ruled the patient out,\n",
       "  r/o,\n",
       "  ro],\n",
       " 'following_patterns': [declined,\n",
       "  unlikely,\n",
       "  was not,\n",
       "  were not,\n",
       "  wasn't,\n",
       "  wasnt,\n",
       "  weren't,\n",
       "  werent,\n",
       "  was ruled out,\n",
       "  were ruled out,\n",
       "  free],\n",
       " 'termination_patterns': [although,\n",
       "  apart from,\n",
       "  as there are,\n",
       "  aside from,\n",
       "  but,\n",
       "  except,\n",
       "  however,\n",
       "  involving,\n",
       "  nevertheless,\n",
       "  still,\n",
       "  though,\n",
       "  which,\n",
       "  yet,\n",
       "  still,\n",
       "  cause for,\n",
       "  cause of,\n",
       "  causes for,\n",
       "  causes of,\n",
       "  etiology for,\n",
       "  etiology of,\n",
       "  origin for,\n",
       "  origin of,\n",
       "  origins for,\n",
       "  origins of,\n",
       "  other possibilities of,\n",
       "  reason for,\n",
       "  reason of,\n",
       "  reasons for,\n",
       "  reasons of,\n",
       "  secondary to,\n",
       "  source for,\n",
       "  source of,\n",
       "  sources for,\n",
       "  sources of,\n",
       "  trigger event for]}"
      ]
     },
     "execution_count": 92,
     "metadata": {},
     "output_type": "execute_result"
    }
   ],
   "source": [
    "\"\"\"\n",
    "NegEx Patterns\n",
    "psuedo_negations - phrases that are false triggers, ambiguous negations, or double negatives\n",
    "preceding_negations - negation phrases that precede an entity\n",
    "following_negations - negation phrases that follow an entity\n",
    "termination - phrases that cut a sentence in parts, for purposes of negation detection (.e.g., \"but\")\n",
    "\"\"\"\n",
    "#negex.get_patterns()"
   ]
  },
  {
   "cell_type": "code",
   "execution_count": 13,
   "metadata": {},
   "outputs": [],
   "source": [
    "from operator import eq, ge, le"
   ]
  },
  {
   "cell_type": "code",
   "execution_count": null,
   "metadata": {},
   "outputs": [],
   "source": [
    "PARAMS = {\n",
    "    \n",
    "    LEN_TRESH: 15,\n",
    "    SUBTREE_LEN_TRESH: 6,\n",
    "    \n",
    "}"
   ]
  },
  {
   "cell_type": "code",
   "execution_count": null,
   "metadata": {},
   "outputs": [],
   "source": [
    "texts = [\n",
    "    \n",
    "]"
   ]
  },
  {
   "cell_type": "code",
   "execution_count": 21,
   "metadata": {},
   "outputs": [
    {
     "name": "stdout",
     "output_type": "stream",
     "text": [
      "[is a really nice, green apple]\n"
     ]
    }
   ],
   "source": [
    "from spacy.matcher import Matcher\n",
    "nlp = spacy.load(\"en_core_web_sm\")\n",
    "doc = nlp(\"This is a really nice, green apple. One apple a day ...!\")\n",
    "matcher = Matcher(nlp.vocab)\n",
    "\n",
    "pattern = [{'ORTH': 'is'}]\n",
    "for i in range(0,5): #aribtrary number of wild cards in between\n",
    "    pattern.append({\"OP\": \"?\"}) \n",
    "pattern.append({\"ORTH\": \"apple\"})\n",
    "\n",
    "matcher.add('test', None, pattern)\n",
    "spans = [doc[start:end] for match_id, start, end in matcher(doc)]\n",
    "for span in spans:\n",
    "    print(spans)\n"
   ]
  }
 ],
 "metadata": {
  "kernelspec": {
   "display_name": "Python 3",
   "language": "python",
   "name": "python3"
  },
  "language_info": {
   "codemirror_mode": {
    "name": "ipython",
    "version": 3
   },
   "file_extension": ".py",
   "mimetype": "text/x-python",
   "name": "python",
   "nbconvert_exporter": "python",
   "pygments_lexer": "ipython3",
   "version": "3.8.3"
  }
 },
 "nbformat": 4,
 "nbformat_minor": 4
}
