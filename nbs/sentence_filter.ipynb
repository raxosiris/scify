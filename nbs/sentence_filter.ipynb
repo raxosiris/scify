{
 "cells": [
  {
   "cell_type": "markdown",
   "metadata": {},
   "source": [
    "Without NEL for now, just pattern matching, and linguistic heuristics to remove unpromising sentences from the pipeline\n",
    "\n",
    "\n",
    "\n",
    "[ 1 ] Sentence Level check Filter before NER/NEL/neg Basic Tagger + Tokenizer\n",
    "    => Len, SDP-len, Dep_complexity. TRIGGER WORDS! (cause, inhibit, therefore)\n",
    " \n",
    "[ 2 ] Remaining sentences (with doc context needed for NER context??) =>\n"
   ]
  },
  {
   "cell_type": "code",
   "execution_count": 51,
   "metadata": {},
   "outputs": [],
   "source": [
    "import spacy\n",
    "from negspacy.negation import Negex #https://github.com/jenojp/negspacy\n",
    "from spacy.pipeline import EntityRuler\n",
    "from extractacy.extract import ValueExtractor"
   ]
  },
  {
   "cell_type": "code",
   "execution_count": 94,
   "metadata": {},
   "outputs": [],
   "source": [
    "from scify.nlp import *\n",
    "\n",
    "from scify.consts import labels\n",
    "\n",
    "\n",
    "nlp = load_sci_pipe()\n",
    "negex = Negex(nlp)\n",
    "nlp.add_pipe(negex, last=True) #works on an per entity basis. If causal phrases become entities?"
   ]
  },
  {
   "cell_type": "code",
   "execution_count": null,
   "metadata": {},
   "outputs": [],
   "source": [
    "Doc.set_extension('my_ents', default=None)\n",
    "\n",
    "#add to pipeline (for multiple docs...merging)\n",
    "def move_ents_to_attr(doc):\n",
    "    if doc._.my_ents is None:\n",
    "        doc._.my_ents = []\n",
    "    doc._.my_ents.extend(doc.ents)\n",
    "    doc.ents = []\n",
    "    return doc\n"
   ]
  },
  {
   "cell_type": "code",
   "execution_count": 99,
   "metadata": {},
   "outputs": [],
   "source": [
    "import csv\n",
    "import json\n",
    "with open('../data/Causaly_small.csv', newline='') as csvfile:\n",
    "    reader = csv.DictReader(csvfile)\n",
    "    cause_small = [* reader]"
   ]
  },
  {
   "cell_type": "code",
   "execution_count": 68,
   "metadata": {},
   "outputs": [],
   "source": [
    "with open(\"../data/wikimed.json\") as f:\n",
    "    wm=[json.loads(d) for d in [* f]]"
   ]
  },
  {
   "cell_type": "code",
   "execution_count": 100,
   "metadata": {},
   "outputs": [],
   "source": [
    "from more_itertools import partition\n",
    "causal_sents, non_causal_sents = partition(lambda d: int(d[\"Annotated_Causal\"]) == 0, cause_small)"
   ]
  },
  {
   "cell_type": "code",
   "execution_count": 95,
   "metadata": {},
   "outputs": [
    {
     "data": {
      "text/plain": [
       "<itertools.filterfalse at 0x10a8b6fa0>"
      ]
     },
     "execution_count": 95,
     "metadata": {},
     "output_type": "execute_result"
    }
   ],
   "source": [
    "causal_sents"
   ]
  },
  {
   "cell_type": "code",
   "execution_count": 101,
   "metadata": {},
   "outputs": [],
   "source": [
    "cause_docs = [nlp(c[\"Sentence\"]) for c in causal_sents]\n",
    "#for doc, meta in nlp.pipe(messages, as_tuples=True):\n",
    "    # do something with the docs and meta, e.g. add it to a custom attribute\n",
    "  #  doc._.meta_data = meta"
   ]
  },
  {
   "cell_type": "code",
   "execution_count": 149,
   "metadata": {},
   "outputs": [
    {
     "data": {
      "text/plain": [
       "[Stemming from these experiences , students tend to change their perspectives on their role as physicians and define the type of physician they wish to be .,\n",
       " To explain why n-3 PUFA decreases the level of Hcy , we examined the effect of n-3 PUFA on the mRNA expression of genes encoding the critical enzymes involved in methionine metabolism .,\n",
       " Our findings suggest that a low dose of THC produces subjective stress-relieving effects in line with those commonly reported among cannabis users , but that higher doses may non-specifically increase negative mood .,\n",
       " Prevention of diarrhea , severe respiratory tract infections , and anemia are likely to decrease the burden of wasting .]"
      ]
     },
     "execution_count": 149,
     "metadata": {},
     "output_type": "execute_result"
    }
   ],
   "source": [
    "cause_docs[12:16]"
   ]
  },
  {
   "cell_type": "code",
   "execution_count": 103,
   "metadata": {},
   "outputs": [
    {
     "data": {
      "text/plain": [
       "151"
      ]
     },
     "execution_count": 103,
     "metadata": {},
     "output_type": "execute_result"
    }
   ],
   "source": [
    "negex_docs = [doc for doc in cause_docs if any([e._.negex for e in doc.ents])]\n"
   ]
  },
  {
   "cell_type": "code",
   "execution_count": 134,
   "metadata": {},
   "outputs": [
    {
     "data": {
      "text/plain": [
       "['a', 'b']"
      ]
     },
     "execution_count": 134,
     "metadata": {},
     "output_type": "execute_result"
    }
   ],
   "source": [
    "[(k) for k in {\"a\": 5, \"b\":3}]"
   ]
  },
  {
   "cell_type": "code",
   "execution_count": 146,
   "metadata": {},
   "outputs": [],
   "source": []
  },
  {
   "cell_type": "code",
   "execution_count": 142,
   "metadata": {},
   "outputs": [
    {
     "data": {
      "text/plain": [
       "7"
      ]
     },
     "execution_count": 142,
     "metadata": {},
     "output_type": "execute_result"
    }
   ],
   "source": [
    "cause_docs[2].ents[1].start"
   ]
  },
  {
   "cell_type": "code",
   "execution_count": 147,
   "metadata": {},
   "outputs": [
    {
     "data": {
      "text/plain": [
       "[{'I did not have sexual intercourse with that woman': [sexual intercourse,\n",
       "   woman]}]"
      ]
     },
     "execution_count": 147,
     "metadata": {},
     "output_type": "execute_result"
    }
   ],
   "source": [
    "doc = nlp(\"I did not have sexual intercourse with that woman\")\n",
    "show_negex_entities([doc])"
   ]
  },
  {
   "cell_type": "code",
   "execution_count": 148,
   "metadata": {},
   "outputs": [
    {
     "data": {
      "text/plain": [
       "[{'It reported that higher facial symmetry was significantly associated with faster and less variable CRT in men , but not in women , and did not correlate with SRT or SRT variability .': [women,\n",
       "   SRT,\n",
       "   SRT,\n",
       "   variability]},\n",
       " {'Although multivessel coronary artery disease is not associated with impaired reperfusion success assessed by cardiac magnetic resonance imaging , patients with multivessel disease are at a high risk of adverse clinical outcomes .': [associated with,\n",
       "   impaired,\n",
       "   reperfusion,\n",
       "   success,\n",
       "   assessed,\n",
       "   cardiac magnetic resonance imaging,\n",
       "   patients,\n",
       "   multivessel disease,\n",
       "   high risk,\n",
       "   adverse clinical]}]"
      ]
     },
     "execution_count": 148,
     "metadata": {},
     "output_type": "execute_result"
    }
   ],
   "source": [
    "show_negex_entities(cause_docs[:10])"
   ]
  },
  {
   "cell_type": "code",
   "execution_count": 129,
   "metadata": {},
   "outputs": [
    {
     "data": {
      "text/plain": [
       "([It reported that higher facial symmetry was significantly associated with faster and less variable CRT in men , but not in women , and did not correlate with SRT or SRT variability .,\n",
       "  Although multivessel coronary artery disease is not associated with impaired reperfusion success assessed by cardiac magnetic resonance imaging , patients with multivessel disease are at a high risk of adverse clinical outcomes .,\n",
       "  The conserved N-BAR domain of ICA69 deforms liposomes in vitro Full-length ICA69 and the ICAC but not the N-BAR domain of ICA69 induce filopodia in cultured cells .],\n",
       " 151,\n",
       " 1113)"
      ]
     },
     "execution_count": 129,
     "metadata": {},
     "output_type": "execute_result"
    }
   ],
   "source": [
    "negex_docs[:3], len(negex_docs), len(cause_docs)"
   ]
  },
  {
   "cell_type": "code",
   "execution_count": 92,
   "metadata": {},
   "outputs": [
    {
     "data": {
      "text/plain": [
       "{'pseudo_patterns': [no further,\n",
       "  not able to be,\n",
       "  not certain if,\n",
       "  not certain whether,\n",
       "  not necessarily,\n",
       "  without any further,\n",
       "  without difficulty,\n",
       "  without further,\n",
       "  might not,\n",
       "  not only,\n",
       "  no increase,\n",
       "  no significant change,\n",
       "  no change,\n",
       "  no definite change,\n",
       "  not extend,\n",
       "  not cause,\n",
       "  not certain if,\n",
       "  not certain whether,\n",
       "  gram negative,\n",
       "  not rule out,\n",
       "  not ruled out,\n",
       "  not been ruled out,\n",
       "  not drain,\n",
       "  no suspicious change,\n",
       "  no interval change,\n",
       "  no significant interval change],\n",
       " 'preceding_patterns': [absence of,\n",
       "  declined,\n",
       "  denied,\n",
       "  denies,\n",
       "  denying,\n",
       "  no sign of,\n",
       "  no signs of,\n",
       "  not,\n",
       "  not demonstrate,\n",
       "  symptoms atypical,\n",
       "  doubt,\n",
       "  negative for,\n",
       "  no,\n",
       "  versus,\n",
       "  without,\n",
       "  doesn't,\n",
       "  doesnt,\n",
       "  don't,\n",
       "  dont,\n",
       "  didn't,\n",
       "  didnt,\n",
       "  wasn't,\n",
       "  wasnt,\n",
       "  weren't,\n",
       "  werent,\n",
       "  isn't,\n",
       "  isnt,\n",
       "  aren't,\n",
       "  arent,\n",
       "  cannot,\n",
       "  can't,\n",
       "  cant,\n",
       "  couldn't,\n",
       "  couldnt,\n",
       "  never,\n",
       "  patient was not,\n",
       "  without indication of,\n",
       "  without sign of,\n",
       "  without signs of,\n",
       "  without any reactions or signs of,\n",
       "  no complaints of,\n",
       "  no evidence of,\n",
       "  no cause of,\n",
       "  evaluate for,\n",
       "  fails to reveal,\n",
       "  free of,\n",
       "  never developed,\n",
       "  never had,\n",
       "  did not exhibit,\n",
       "  rules out,\n",
       "  rule out,\n",
       "  rule him out,\n",
       "  rule her out,\n",
       "  rule patient out,\n",
       "  rule the patient out,\n",
       "  ruled out,\n",
       "  ruled him outruled her out,\n",
       "  ruled patient out,\n",
       "  ruled the patient out,\n",
       "  r/o,\n",
       "  ro],\n",
       " 'following_patterns': [declined,\n",
       "  unlikely,\n",
       "  was not,\n",
       "  were not,\n",
       "  wasn't,\n",
       "  wasnt,\n",
       "  weren't,\n",
       "  werent,\n",
       "  was ruled out,\n",
       "  were ruled out,\n",
       "  free],\n",
       " 'termination_patterns': [although,\n",
       "  apart from,\n",
       "  as there are,\n",
       "  aside from,\n",
       "  but,\n",
       "  except,\n",
       "  however,\n",
       "  involving,\n",
       "  nevertheless,\n",
       "  still,\n",
       "  though,\n",
       "  which,\n",
       "  yet,\n",
       "  still,\n",
       "  cause for,\n",
       "  cause of,\n",
       "  causes for,\n",
       "  causes of,\n",
       "  etiology for,\n",
       "  etiology of,\n",
       "  origin for,\n",
       "  origin of,\n",
       "  origins for,\n",
       "  origins of,\n",
       "  other possibilities of,\n",
       "  reason for,\n",
       "  reason of,\n",
       "  reasons for,\n",
       "  reasons of,\n",
       "  secondary to,\n",
       "  source for,\n",
       "  source of,\n",
       "  sources for,\n",
       "  sources of,\n",
       "  trigger event for]}"
      ]
     },
     "execution_count": 92,
     "metadata": {},
     "output_type": "execute_result"
    }
   ],
   "source": [
    "\"\"\"\n",
    "NegEx Patterns\n",
    "psuedo_negations - phrases that are false triggers, ambiguous negations, or double negatives\n",
    "preceding_negations - negation phrases that precede an entity\n",
    "following_negations - negation phrases that follow an entity\n",
    "termination - phrases that cut a sentence in parts, for purposes of negation detection (.e.g., \"but\")\n",
    "\"\"\"\n",
    "negex.get_patterns()"
   ]
  },
  {
   "cell_type": "code",
   "execution_count": 13,
   "metadata": {},
   "outputs": [],
   "source": [
    "from operator import eq, ge, le"
   ]
  },
  {
   "cell_type": "code",
   "execution_count": null,
   "metadata": {},
   "outputs": [],
   "source": [
    "PARAMS = {\n",
    "    \n",
    "    LEN_TRESH: 15,\n",
    "    SUBTREE_LEN_TRESH: 6,\n",
    "    \n",
    "}"
   ]
  },
  {
   "cell_type": "code",
   "execution_count": null,
   "metadata": {},
   "outputs": [],
   "source": [
    "texts = [\n",
    "    \n",
    "]"
   ]
  },
  {
   "cell_type": "code",
   "execution_count": 16,
   "metadata": {},
   "outputs": [
    {
     "data": {
      "text/plain": [
       "[9]"
      ]
     },
     "execution_count": 16,
     "metadata": {},
     "output_type": "execute_result"
    }
   ],
   "source": [
    "[len(sent) > LEN_TRESH for sent in doc.sents]"
   ]
  },
  {
   "cell_type": "code",
   "execution_count": 21,
   "metadata": {},
   "outputs": [
    {
     "name": "stdout",
     "output_type": "stream",
     "text": [
      "[is a really nice, green apple]\n"
     ]
    }
   ],
   "source": [
    "from spacy.matcher import Matcher\n",
    "nlp = spacy.load(\"en_core_web_sm\")\n",
    "doc = nlp(\"This is a really nice, green apple. One apple a day ...!\")\n",
    "matcher = Matcher(nlp.vocab)\n",
    "\n",
    "pattern = [{'ORTH': 'is'}]\n",
    "for i in range(0,5): #aribtrary number of wild cards in between\n",
    "    pattern.append({\"OP\": \"?\"}) \n",
    "pattern.append({\"ORTH\": \"apple\"})\n",
    "\n",
    "matcher.add('test', None, pattern)\n",
    "spans = [doc[start:end] for match_id, start, end in matcher(doc)]\n",
    "for span in spans:\n",
    "    print(spans)\n"
   ]
  }
 ],
 "metadata": {
  "kernelspec": {
   "display_name": "Python 3",
   "language": "python",
   "name": "python3"
  },
  "language_info": {
   "codemirror_mode": {
    "name": "ipython",
    "version": 3
   },
   "file_extension": ".py",
   "mimetype": "text/x-python",
   "name": "python",
   "nbconvert_exporter": "python",
   "pygments_lexer": "ipython3",
   "version": "3.8.3"
  }
 },
 "nbformat": 4,
 "nbformat_minor": 4
}
