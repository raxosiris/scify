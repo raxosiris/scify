{
 "cells": [
  {
   "cell_type": "markdown",
   "metadata": {},
   "source": [
    "## TODO\n",
    "[ ] Make Hierplane Interactive work in Jupyter Lab\n",
    "        Tried importing CSS manually\n",
    "        It worked shortly but CSS did not work"
   ]
  },
  {
   "cell_type": "code",
   "execution_count": 55,
   "metadata": {},
   "outputs": [
    {
     "name": "stdout",
     "output_type": "stream",
     "text": [
      "The autoreload extension is already loaded. To reload it, use:\n",
      "  %reload_ext autoreload\n"
     ]
    }
   ],
   "source": [
    "%load_ext autoreload\n",
    "%autoreload 2\n",
    "from urllib.request import urlopen\n",
    "from urllib.parse import urlencode\n"
   ]
  },
  {
   "cell_type": "code",
   "execution_count": 290,
   "metadata": {},
   "outputs": [],
   "source": [
    "from scify.vis import build_hierplane_tree, hierplane\n",
    "import spacy\n",
    "#nlp = spacy.load(\"en_core_sci_sm\")"
   ]
  },
  {
   "cell_type": "code",
   "execution_count": 293,
   "metadata": {},
   "outputs": [
    {
     "data": {
      "text/html": [
       "\n",
       "        <iframe\n",
       "            width=\"100%\"\n",
       "            height=\"500px\"\n",
       "            src=\"temp.html\"\n",
       "            frameborder=\"0\"\n",
       "            allowfullscreen\n",
       "        ></iframe>\n",
       "        "
      ],
      "text/plain": [
       "<IPython.lib.display.IFrame at 0x1281253d0>"
      ]
     },
     "execution_count": 293,
     "metadata": {},
     "output_type": "execute_result"
    }
   ],
   "source": [
    "hierplane(sent)"
   ]
  },
  {
   "cell_type": "code",
   "execution_count": 281,
   "metadata": {},
   "outputs": [
    {
     "data": {
      "text/html": [
       "\n",
       "        <iframe\n",
       "            width=\"100%\"\n",
       "            height=\"500px\"\n",
       "            src=\"http://127.0.0.1:8000/items/aa\"\n",
       "            frameborder=\"0\"\n",
       "            allowfullscreen\n",
       "        ></iframe>\n",
       "        "
      ],
      "text/plain": [
       "<IPython.lib.display.IFrame at 0x11a073e80>"
      ]
     },
     "execution_count": 281,
     "metadata": {},
     "output_type": "execute_result"
    }
   ],
   "source": [
    "IFrame(src=\"http://127.0.0.1:8000/items/aa\", width='100%', height='500px')\n"
   ]
  },
  {
   "cell_type": "code",
   "execution_count": 277,
   "metadata": {},
   "outputs": [],
   "source": [
    "sent = [*nlp(\"Where is my wallet?\").sents][0]"
   ]
  },
  {
   "cell_type": "code",
   "execution_count": 278,
   "metadata": {},
   "outputs": [
    {
     "name": "stdout",
     "output_type": "stream",
     "text": [
      "Connecting to localhost for vis_server (you have to run one first)....because jupyter and HTML is buggy\n"
     ]
    },
    {
     "data": {
      "text/html": [
       "\n",
       "        <iframe\n",
       "            width=\"100%\"\n",
       "            height=\"500px\"\n",
       "            src=\"http://127.0.0.1:8000/items/something\"\n",
       "            frameborder=\"0\"\n",
       "            allowfullscreen\n",
       "        ></iframe>\n",
       "        "
      ],
      "text/plain": [
       "<IPython.lib.display.IFrame at 0x11a06dcd0>"
      ]
     },
     "execution_count": 278,
     "metadata": {},
     "output_type": "execute_result"
    }
   ],
   "source": [
    "hierplane(sent)"
   ]
  },
  {
   "cell_type": "code",
   "execution_count": 225,
   "metadata": {},
   "outputs": [],
   "source": [
    "from urllib.parse import parse_qs, parse_qsl"
   ]
  },
  {
   "cell_type": "code",
   "execution_count": 228,
   "metadata": {},
   "outputs": [
    {
     "data": {
      "text/plain": [
       "'[[\"text\", \"Where%20is%20my%20wallet%3F\"], [\"root[word]\", \"is\"], [\"root[nodeType]\", \"ROOT\"], [\"root[attributes]\", \"%5B%27AUX%27%5D\"], [\"root[link]\", \"ROOT\"], [\"root[spans]\", \"%5B%7B%27start%27%3A%206%2C%20%27end%27%3A%208%7D%5D\"], [\"root[children]\", \"%5B%7B%27word%27%3A%20%27Where%27%2C%20%27nodeType%27%3A%20%27advmod%27%2C%20%27attributes%27%3A%20%5B%27ADV%27%5D%2C%20%27link%27%3A%20%27advmod%27%2C%20%27spans%27%3A%20%5B%7B%27start%27%3A%200%2C%20%27end%27%3A%205%7D%5D%7D%2C%20%7B%27word%27%3A%20%27wallet%27%2C%20%27nodeType%27%3A%20%27nsubj%27%2C%20%27attributes%27%3A%20%5B%27NOUN%27%2C%20%27ENTITY%27%5D%2C%20%27link%27%3A%20%27nsubj%27%2C%20%27spans%27%3A%20%5B%7B%27start%27%3A%2012%2C%20%27end%27%3A%2018%7D%5D%2C%20%27children%27%3A%20%5B%7B%27word%27%3A%20%27my%27%2C%20%27nodeType%27%3A%20%27poss%27%2C%20%27attributes%27%3A%20%5B%27DET%27%5D%2C%20%27link%27%3A%20%27poss%27%2C%20%27spans%27%3A%20%5B%7B%27start%27%3A%209%2C%20%27end%27%3A%2011%7D%5D%7D%5D%7D%2C%20%7B%27word%27%3A%20%27%3F%27%2C%20%27nodeType%27%3A%20%27punct%27%2C%20%27attributes%27%3A%20%5B%27PUNCT%27%5D%2C%20%27link%27%3A%20%27punct%27%2C%20%27spans%27%3A%20%5B%7B%27start%27%3A%2018%2C%20%27end%27%3A%2019%7D%5D%7D%5D\"]]'"
      ]
     },
     "execution_count": 228,
     "metadata": {},
     "output_type": "execute_result"
    }
   ],
   "source": [
    "#I will find the idiot who stole 4 hours of my life. Basic encode/decode not working. Somebody must suffer for this\n",
    "json.dumps(parse_qsl(recursive_urlencode(tree)))"
   ]
  }
 ],
 "metadata": {
  "kernelspec": {
   "display_name": "Python 3",
   "language": "python",
   "name": "python3"
  },
  "language_info": {
   "codemirror_mode": {
    "name": "ipython",
    "version": 3
   },
   "file_extension": ".py",
   "mimetype": "text/x-python",
   "name": "python",
   "nbconvert_exporter": "python",
   "pygments_lexer": "ipython3",
   "version": "3.8.3"
  }
 },
 "nbformat": 4,
 "nbformat_minor": 4
}
