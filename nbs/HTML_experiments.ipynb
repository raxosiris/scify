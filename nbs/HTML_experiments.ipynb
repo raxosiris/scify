{
 "cells": [
  {
   "cell_type": "markdown",
   "metadata": {},
   "source": [
    "## TODO\n",
    "[ ] Make Hierplane Interactive work in Jupyter Lab\n",
    "        Tried importing CSS manually\n",
    "        It worked shortly but CSS did not work"
   ]
  },
  {
   "cell_type": "code",
   "execution_count": 55,
   "metadata": {},
   "outputs": [
    {
     "name": "stdout",
     "output_type": "stream",
     "text": [
      "The autoreload extension is already loaded. To reload it, use:\n",
      "  %reload_ext autoreload\n"
     ]
    }
   ],
   "source": [
    "%load_ext autoreload\n",
    "%autoreload 2\n",
    "from urllib.request import urlopen\n",
    "from urllib.parse import urlencode\n"
   ]
  },
  {
   "cell_type": "code",
   "execution_count": 57,
   "metadata": {},
   "outputs": [],
   "source": [
    "from scify.vis import build_hierplane_tree\n",
    "import spacy\n",
    "nlp = spacy.load(\"en_core_sci_sm\")"
   ]
  },
  {
   "cell_type": "code",
   "execution_count": 63,
   "metadata": {},
   "outputs": [
    {
     "name": "stdout",
     "output_type": "stream",
     "text": [
      "hi!\n"
     ]
    },
    {
     "ename": "AttributeError",
     "evalue": "'spacy.tokens.doc.Doc' object has no attribute 'root'",
     "output_type": "error",
     "traceback": [
      "\u001b[0;31m---------------------------------------------------------------------------\u001b[0m",
      "\u001b[0;31mAttributeError\u001b[0m                            Traceback (most recent call last)",
      "\u001b[0;32m<ipython-input-63-c85b09321e8d>\u001b[0m in \u001b[0;36m<module>\u001b[0;34m\u001b[0m\n\u001b[0;32m----> 1\u001b[0;31m \u001b[0mdict\u001b[0m\u001b[0;34m(\u001b[0m\u001b[0mbuild_hierplane_tree\u001b[0m\u001b[0;34m(\u001b[0m\u001b[0mnlp\u001b[0m\u001b[0;34m(\u001b[0m\u001b[0;34m\"Where is my wallet?\"\u001b[0m\u001b[0;34m)\u001b[0m\u001b[0;34m)\u001b[0m\u001b[0;34m)\u001b[0m\u001b[0;34m\u001b[0m\u001b[0;34m\u001b[0m\u001b[0m\n\u001b[0m",
      "\u001b[0;32m~/Projects/iknow/scify/vis.py\u001b[0m in \u001b[0;36mbuild_hierplane_tree\u001b[0;34m(tree)\u001b[0m\n\u001b[1;32m     63\u001b[0m     hierplane_tree = {\n\u001b[1;32m     64\u001b[0m             \u001b[0;34m\"text\"\u001b[0m\u001b[0;34m:\u001b[0m \u001b[0mstr\u001b[0m\u001b[0;34m(\u001b[0m\u001b[0mtree\u001b[0m\u001b[0;34m)\u001b[0m\u001b[0;34m,\u001b[0m\u001b[0;34m\u001b[0m\u001b[0;34m\u001b[0m\u001b[0m\n\u001b[0;32m---> 65\u001b[0;31m             \u001b[0;34m\"root\"\u001b[0m\u001b[0;34m:\u001b[0m \u001b[0mnode_constuctor\u001b[0m\u001b[0;34m(\u001b[0m\u001b[0mtree\u001b[0m\u001b[0;34m.\u001b[0m\u001b[0mroot\u001b[0m\u001b[0;34m)\u001b[0m\u001b[0;34m\u001b[0m\u001b[0;34m\u001b[0m\u001b[0m\n\u001b[0m\u001b[1;32m     66\u001b[0m     }\n\u001b[1;32m     67\u001b[0m     \u001b[0;32mreturn\u001b[0m \u001b[0mhierplane_tree\u001b[0m\u001b[0;34m\u001b[0m\u001b[0;34m\u001b[0m\u001b[0m\n",
      "\u001b[0;31mAttributeError\u001b[0m: 'spacy.tokens.doc.Doc' object has no attribute 'root'"
     ]
    }
   ],
   "source": [
    "dict(build_hierplane_tree(nlp(\"Where is my wallet?\")))"
   ]
  },
  {
   "cell_type": "code",
   "execution_count": 39,
   "metadata": {},
   "outputs": [
    {
     "data": {
      "text/html": [
       "\n",
       "        <iframe\n",
       "            width=\"100%\"\n",
       "            height=\"500px\"\n",
       "            src=\"http://127.0.0.1:8000/items/a=5&b=4\"\n",
       "            frameborder=\"0\"\n",
       "            allowfullscreen\n",
       "        ></iframe>\n",
       "        "
      ],
      "text/plain": [
       "<IPython.lib.display.IFrame at 0x10b05a460>"
      ]
     },
     "execution_count": 39,
     "metadata": {},
     "output_type": "execute_result"
    }
   ],
   "source": [
    "from IPython.display import IFrame\n",
    "IFrame(src=\"http://127.0.0.1:8000/items/\" + urlencode({\"a\": 5, \"b\":4}), width='100%', height='500px')"
   ]
  },
  {
   "cell_type": "code",
   "execution_count": 2,
   "metadata": {},
   "outputs": [
    {
     "data": {
      "text/html": [
       "<!DOCTYPE html><html>\n",
       "  <head>\n",
       "    <title>Hierplane!</title>\n",
       "    <link rel=\"stylesheet\" type=\"text/css\" href=\"https://unpkg.com/hierplane@0.2.1/dist/static/hierplane.min.css\">\n",
       "    <script src=\"https://unpkg.com/hierplane@0.2.1/dist/static/hierplane.min.js\"></script>\n",
       "    </head>\n",
       "  <body>\n",
       "    <script>\n",
       "      const tree = {\n",
       "        text: 'Sam likes boats',\n",
       "        root: {\n",
       "          nodeType: 'event',\n",
       "          word: 'like',\n",
       "          spans: [\n",
       "            {\n",
       "              start: 4,\n",
       "              end: 9\n",
       "            }\n",
       "          ],\n",
       "          children: [\n",
       "            {\n",
       "              nodeType: 'entity',\n",
       "              word: 'Sam',\n",
       "              link: 'subject',\n",
       "              attributes: [ 'Person' ],\n",
       "              spans: [\n",
       "                {\n",
       "                  start: 0,\n",
       "                  end: 3\n",
       "                }\n",
       "              ]\n",
       "            },\n",
       "            {\n",
       "              nodeType: 'entity',\n",
       "              word: 'boat',\n",
       "              link: 'object',\n",
       "              attributes: [ '>1'],\n",
       "              spans: [\n",
       "                {\n",
       "                  start: 10,\n",
       "                  end: 17\n",
       "                }\n",
       "              ]\n",
       "            }\n",
       "          ]\n",
       "        }\n",
       "      };\n",
       "      alert(\"HI\")\n",
       "      hierplane.renderTree(tree);\n",
       "    </script>\n",
       "  </body>\n",
       "</html>"
      ],
      "text/plain": [
       "<IPython.core.display.HTML object>"
      ]
     },
     "execution_count": 2,
     "metadata": {},
     "output_type": "execute_result"
    }
   ],
   "source": [
    "#%%javascript\n",
    "#alert('Hello!')\n",
    "\"\"\"\n",
    "a=5 \n",
    "<script>\n",
    "    //window.alert(%s);\n",
    "</script>\n",
    "%s\n",
    "\"\"\"\n",
    "\n",
    "htmlcode = \"\"\"<!DOCTYPE html><html>\n",
    "  <head>\n",
    "    <title>Hierplane!</title>\n",
    "    <link rel=\"stylesheet\" type=\"text/css\" href=\"https://unpkg.com/hierplane@0.2.1/dist/static/hierplane.min.css\">\n",
    "    <script src=\"https://unpkg.com/hierplane@0.2.1/dist/static/hierplane.min.js\"></script>\n",
    "    </head>\n",
    "  <body>\n",
    "    <script>\n",
    "      const tree = {\n",
    "        text: 'Sam likes boats',\n",
    "        root: {\n",
    "          nodeType: 'event',\n",
    "          word: 'like',\n",
    "          spans: [\n",
    "            {\n",
    "              start: 4,\n",
    "              end: 9\n",
    "            }\n",
    "          ],\n",
    "          children: [\n",
    "            {\n",
    "              nodeType: 'entity',\n",
    "              word: 'Sam',\n",
    "              link: 'subject',\n",
    "              attributes: [ 'Person' ],\n",
    "              spans: [\n",
    "                {\n",
    "                  start: 0,\n",
    "                  end: 3\n",
    "                }\n",
    "              ]\n",
    "            },\n",
    "            {\n",
    "              nodeType: 'entity',\n",
    "              word: 'boat',\n",
    "              link: 'object',\n",
    "              attributes: [ '>1'],\n",
    "              spans: [\n",
    "                {\n",
    "                  start: 10,\n",
    "                  end: 17\n",
    "                }\n",
    "              ]\n",
    "            }\n",
    "          ]\n",
    "        }\n",
    "      };\n",
    "      alert(\"HI\")\n",
    "      hierplane.renderTree(tree);\n",
    "    </script>\n",
    "  </body>\n",
    "</html>\"\"\"\n",
    "\n",
    "from IPython.display import HTML\n",
    "#css = urlopen('https://unpkg.com/hierplane@0.2.1/dist/static/hierplane.min.css').read().decode('utf-8')\n",
    "#HTML(css)\n",
    "HTML(htmlcode)"
   ]
  },
  {
   "cell_type": "code",
   "execution_count": null,
   "metadata": {},
   "outputs": [],
   "source": []
  }
 ],
 "metadata": {
  "kernelspec": {
   "display_name": "Python 3",
   "language": "python",
   "name": "python3"
  },
  "language_info": {
   "codemirror_mode": {
    "name": "ipython",
    "version": 3
   },
   "file_extension": ".py",
   "mimetype": "text/x-python",
   "name": "python",
   "nbconvert_exporter": "python",
   "pygments_lexer": "ipython3",
   "version": "3.8.3"
  }
 },
 "nbformat": 4,
 "nbformat_minor": 4
}
